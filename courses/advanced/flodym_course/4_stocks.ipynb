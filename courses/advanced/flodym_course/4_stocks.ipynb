{
 "cells": [
  {
   "cell_type": "markdown",
   "id": "dc426867-6415-47dd-9a5a-349b9ff49b5d",
   "metadata": {
    "editable": true,
    "slideshow": {
     "slide_type": "slide"
    },
    "tags": []
   },
   "source": [
    "## Stocks / Dynamic Stock Models (DSM)"
   ]
  },
  {
   "cell_type": "markdown",
   "id": "4480efe6-01b1-4ded-b3d9-03a0b6de7ff7",
   "metadata": {
    "editable": true,
    "slideshow": {
     "slide_type": "slide"
    },
    "tags": []
   },
   "source": [
    "### Stocks Overview"
   ]
  },
  {
   "cell_type": "markdown",
   "id": "4117972e-d8ee-4b73-97ea-7d449c20c676",
   "metadata": {
    "editable": true,
    "slideshow": {
     "slide_type": "fragment"
    },
    "tags": []
   },
   "source": [
    "- Account for accumulating materials"
   ]
  },
  {
   "cell_type": "markdown",
   "id": "7cc552d1-2756-4ebf-8ea0-cdf29a24a150",
   "metadata": {
    "editable": true,
    "slideshow": {
     "slide_type": "fragment"
    },
    "tags": []
   },
   "source": [
    "- Mostly including a `lifetime_model`"
   ]
  },
  {
   "cell_type": "markdown",
   "id": "fe4fe2c2-8457-4a8d-91a0-280576a713c7",
   "metadata": {
    "editable": true,
    "slideshow": {
     "slide_type": "fragment"
    },
    "tags": []
   },
   "source": [
    "- Three attributes: `inflow`, `outflow`, and `stock`.\n",
    "  - Each instances of the `FlodymArray` subclass `StockArray`."
   ]
  },
  {
   "cell_type": "markdown",
   "id": "56f25560-b0bd-494a-ae43-eadc241a18cf",
   "metadata": {
    "editable": true,
    "slideshow": {
     "slide_type": "fragment"
    },
    "tags": []
   },
   "source": [
    "- Different subclasses of `Stock`; Differences:\n",
    "  - Which of the above three quantities are given\n",
    "  - Which are calculated\n",
    "  - How are they calculated"
   ]
  },
  {
   "cell_type": "markdown",
   "id": "3e5cb6f6-c84f-473a-8e0d-b3f92e5aa2a5",
   "metadata": {
    "editable": true,
    "slideshow": {
     "slide_type": "slide"
    },
    "tags": []
   },
   "source": [
    "## Input requirements\n",
    "\n",
    "- `dims` (`DimensionSet`)\n",
    "  - First dimension must be time.\n",
    "  - Time letter other than `t` must specified via `time_letter`"
   ]
  },
  {
   "cell_type": "markdown",
   "id": "1b30cfe4-3f25-4353-832b-2307214d8806",
   "metadata": {
    "editable": true,
    "slideshow": {
     "slide_type": "fragment"
    },
    "tags": []
   },
   "source": [
    "- Arrays `inflow`, `outflow`, and `stock` are optional, values can be set later\n",
    "  - must have the same `dims` as the stock object"
   ]
  },
  {
   "cell_type": "markdown",
   "id": "ed886fb5",
   "metadata": {
    "editable": true,
    "slideshow": {
     "slide_type": "slide"
    },
    "tags": []
   },
   "source": [
    "## Example\n",
    "\n",
    "For full reference, see the howto. "
   ]
  },
  {
   "cell_type": "code",
   "execution_count": null,
   "id": "cf1a9794-dbe2-472b-9f4d-fb9c26bdc95f",
   "metadata": {
    "editable": true,
    "slideshow": {
     "slide_type": ""
    },
    "tags": []
   },
   "outputs": [],
   "source": [
    "import numpy as np\n",
    "import flodym as fd\n",
    "\n",
    "dims = fd.DimensionSet(dim_list=[\n",
    "    fd.Dimension(name=\"Time\", letter=\"t\", items=list(range(1970, 2060, 10))),\n",
    "    fd.Dimension(name=\"Product\", letter=\"p\", items=[\"Vehicles\", \"Buildings\"]),\n",
    "])"
   ]
  },
  {
   "cell_type": "code",
   "execution_count": null,
   "id": "dc16ce74-45e3-4d32-86c4-2e2b2109826f",
   "metadata": {
    "editable": true,
    "slideshow": {
     "slide_type": "subslide"
    },
    "tags": []
   },
   "outputs": [],
   "source": [
    "my_dsm = fd.InflowDrivenDSM(\n",
    "    dims=dims,\n",
    "    lifetime_model=fd.NormalLifetime,\n",
    ")\n",
    "print(my_dsm)"
   ]
  },
  {
   "cell_type": "code",
   "execution_count": null,
   "id": "1ef2235e-396b-44eb-ba41-95f432c5dd96",
   "metadata": {
    "editable": true,
    "slideshow": {
     "slide_type": "fragment"
    },
    "tags": []
   },
   "outputs": [],
   "source": [
    "lifetime_mean = fd.Parameter(dims=dims[(\"p\",)], values=np.array([15, 60]))\n",
    "my_dsm.inflow.values[...] = 1.\n",
    "my_dsm.lifetime_model.set_prms(mean=lifetime_mean, std=0.3 * lifetime_mean)\n",
    "my_dsm.compute()"
   ]
  },
  {
   "cell_type": "code",
   "execution_count": null,
   "id": "2e84ca0e",
   "metadata": {
    "editable": true,
    "slideshow": {
     "slide_type": "fragment"
    },
    "tags": []
   },
   "outputs": [],
   "source": [
    "print(\"Stock values for Buildings:\")\n",
    "print(my_dsm.stock[\"Buildings\"].to_df())"
   ]
  },
  {
   "cell_type": "markdown",
   "id": "8a80ab95",
   "metadata": {
    "editable": true,
    "slideshow": {
     "slide_type": "slide"
    },
    "tags": []
   },
   "source": [
    "### Stock Features \n",
    "\n",
    "- Can handle non-contiguous time steps/years\n",
    "- Can avoid time discretization errors for sub-resolution lifetimes through numerical integration\n",
    "- Can handle uneven time spacing"
   ]
  }
 ],
 "metadata": {
  "jupytext": {
   "cell_metadata_filter": "-all",
   "main_language": "python",
   "notebook_metadata_filter": "-all"
  },
  "kernelspec": {
   "display_name": "Python 3 (ipykernel)",
   "language": "python",
   "name": "python3"
  },
  "language_info": {
   "codemirror_mode": {
    "name": "ipython",
    "version": 3
   },
   "file_extension": ".py",
   "mimetype": "text/x-python",
   "name": "python",
   "nbconvert_exporter": "python",
   "pygments_lexer": "ipython3",
   "version": "3.13.0"
  }
 },
 "nbformat": 4,
 "nbformat_minor": 5
}
