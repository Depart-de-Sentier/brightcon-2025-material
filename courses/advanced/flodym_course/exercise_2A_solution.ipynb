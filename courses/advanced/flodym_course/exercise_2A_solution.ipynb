{
 "cells": [
  {
   "cell_type": "markdown",
   "metadata": {
    "editable": true,
    "slideshow": {
     "slide_type": ""
    },
    "tags": []
   },
   "source": [
    "# Exercise 2\n",
    "\n",
    "Below you find the whole code of the MFA System we just discussed. \n",
    "\n",
    "Make the following modifications: \n",
    "\n",
    "## Exercises\n",
    "\n",
    "### 2A: Add a `waste` stock.\n",
    "- Adapt the definitions \n",
    "  - Introduce the stock definition:\n",
    "    - The `subclass` should be `fd.SimpleFlowDrivenStock`. It needs no lifetime model.\n",
    "  - Introduce an according process\n",
    "  - Change the destination of the `use => sysenv` flow from `sysenv` to this process in the `FlowDefinition`.\n",
    "- Adapt the compute routine\n",
    "  - change the name of the `use => sysenv`, following its new destination\n",
    "  - set this flow as the `inflow` of the new waste stock.\n",
    "  - call the `compute` routine of the stock. \n",
    "    - With an input given, the `compute()` function of this stock just accumulates the inflows over time.\n",
    "\n",
    "### 2B: Add an `element` dimension.\n",
    "- Add the dimension definition (Name must be `element`, letter could be `e`)\n",
    "- Add the parameter definition `element shares` (with `element` being its only dimension)\n",
    "- Add the file locations of the pre-existing files `data/dimension_element.csv` and `data/parameter_element_shares.csv` to the according dictionaries\n",
    "- Add the dimension letter to all flows and stocks.\n",
    "- In the first line of the `compute` function, multiply the right-hand side (parameter `production`) with the new parameter `element shares`.\n",
    "\n",
    "### 2C: Export a stock and/or a flow\n",
    "- Either by plotting it\n",
    "- Or by exporting to a dataframe and printing to stdout. "
   ]
  },
  {
   "cell_type": "markdown",
   "metadata": {},
   "source": [
    "## Code\n",
    "\n",
    "### Definitions"
   ]
  },
  {
   "cell_type": "code",
   "execution_count": null,
   "metadata": {
    "editable": true,
    "slideshow": {
     "slide_type": ""
    },
    "tags": []
   },
   "outputs": [],
   "source": [
    "import flodym as fd\n",
    "\n",
    "dimension_definitions = [\n",
    "    fd.DimensionDefinition(letter=\"t\", name=\"time\", dtype=int),\n",
    "    fd.DimensionDefinition(letter=\"p\", name=\"product\", dtype=str),\n",
    "]"
   ]
  },
  {
   "cell_type": "code",
   "execution_count": null,
   "metadata": {
    "editable": true,
    "slideshow": {
     "slide_type": ""
    },
    "tags": []
   },
   "outputs": [],
   "source": [
    "parameter_definitions = [\n",
    "    fd.ParameterDefinition(name=\"production\", dim_letters=(\"t\",)),\n",
    "    fd.ParameterDefinition(name=\"manufacturing loss rate\", dim_letters=(\"t\",)),\n",
    "    fd.ParameterDefinition(name=\"product shares\", dim_letters=(\"p\",)),\n",
    "    fd.ParameterDefinition(name=\"product lifetimes\", dim_letters=(\"p\",)),\n",
    "]"
   ]
  },
  {
   "cell_type": "code",
   "execution_count": null,
   "metadata": {
    "editable": true,
    "slideshow": {
     "slide_type": "subslide"
    },
    "tags": []
   },
   "outputs": [],
   "source": [
    "process_names = [\n",
    "    \"sysenv\",\n",
    "    \"manufacturing\",\n",
    "    \"use\",\n",
    "    \"waste\",\n",
    "]"
   ]
  },
  {
   "cell_type": "code",
   "execution_count": null,
   "metadata": {
    "editable": true,
    "slideshow": {
     "slide_type": ""
    },
    "tags": []
   },
   "outputs": [],
   "source": [
    "flow_definitions = [\n",
    "    fd.FlowDefinition(from_process_name=\"sysenv\", to_process_name=\"manufacturing\", dim_letters=(\"t\",)),\n",
    "    fd.FlowDefinition(from_process_name=\"manufacturing\", to_process_name=\"sysenv\", dim_letters=(\"t\",)),\n",
    "    fd.FlowDefinition(from_process_name=\"manufacturing\", to_process_name=\"use\", dim_letters=(\"t\", \"p\")),\n",
    "    fd.FlowDefinition(from_process_name=\"use\", to_process_name=\"waste\", dim_letters=(\"t\", \"p\")),\n",
    "]"
   ]
  },
  {
   "cell_type": "code",
   "execution_count": null,
   "metadata": {
    "editable": true,
    "slideshow": {
     "slide_type": "subslide"
    },
    "tags": []
   },
   "outputs": [],
   "source": [
    "stock_definitions = [\n",
    "    fd.StockDefinition(\n",
    "        name=\"use\",\n",
    "        process=\"use\",\n",
    "        dim_letters=(\"t\", \"p\"),\n",
    "        subclass=fd.InflowDrivenDSM,\n",
    "        lifetime_model_class=fd.LogNormalLifetime,\n",
    "    ),\n",
    "        fd.StockDefinition(\n",
    "        name=\"waste\",\n",
    "        process=\"waste\",\n",
    "        dim_letters=(\"t\",),\n",
    "        subclass=fd.SimpleFlowDrivenStock,\n",
    "    ),\n",
    "]"
   ]
  },
  {
   "cell_type": "code",
   "execution_count": null,
   "metadata": {
    "editable": true,
    "slideshow": {
     "slide_type": "subslide"
    },
    "tags": []
   },
   "outputs": [],
   "source": [
    "mfa_definition = fd.MFADefinition(\n",
    "    dimensions=dimension_definitions,\n",
    "    parameters=parameter_definitions,\n",
    "    processes=process_names,\n",
    "    flows=flow_definitions,\n",
    "    stocks=stock_definitions,\n",
    ")"
   ]
  },
  {
   "cell_type": "markdown",
   "metadata": {
    "editable": true,
    "slideshow": {
     "slide_type": "slide"
    },
    "tags": []
   },
   "source": [
    "### Data sources "
   ]
  },
  {
   "cell_type": "code",
   "execution_count": null,
   "metadata": {
    "editable": true,
    "slideshow": {
     "slide_type": ""
    },
    "tags": []
   },
   "outputs": [],
   "source": [
    "dimension_files = {\n",
    "    \"time\": \"data/dimension_time.csv\",\n",
    "    \"product\": \"data/dimension_product.csv\",\n",
    "}"
   ]
  },
  {
   "cell_type": "code",
   "execution_count": null,
   "metadata": {
    "editable": true,
    "slideshow": {
     "slide_type": "subslide"
    },
    "tags": []
   },
   "outputs": [],
   "source": [
    "parameter_files = {\n",
    "    \"production\": \"data/parameter_production.csv\",\n",
    "    \"manufacturing loss rate\": \"data/parameter_manufacturing_loss_rate.csv\",\n",
    "    \"product shares\": \"data/parameter_product_shares.csv\",\n",
    "    \"product lifetimes\": \"data/parameter_product_lifetimes.csv\",\n",
    "}\n"
   ]
  },
  {
   "cell_type": "markdown",
   "metadata": {},
   "source": [
    "### `compute` routine"
   ]
  },
  {
   "cell_type": "code",
   "execution_count": null,
   "metadata": {
    "editable": true,
    "slideshow": {
     "slide_type": "subslide"
    },
    "tags": []
   },
   "outputs": [],
   "source": [
    "class SimpleMFA(fd.MFASystem):\n",
    "    def compute(self):\n",
    "\n",
    "        # manufacturing flows\n",
    "        self.flows[\"sysenv => manufacturing\"][...] = self.parameters[\"production\"]\n",
    "        self.flows[\"manufacturing => sysenv\"][...] = self.flows[\"sysenv => manufacturing\"] * self.parameters[\"manufacturing loss rate\"]\n",
    "        total_products = self.flows[\"sysenv => manufacturing\"] - self.flows[\"manufacturing => sysenv\"]\n",
    "        self.flows[\"manufacturing => use\"][...] = total_products * self.parameters[\"product shares\"]\n",
    "\n",
    "        # use stock\n",
    "        self.stocks[\"use\"].inflow[...] = self.flows[\"manufacturing => use\"]\n",
    "        self.stocks[\"use\"].lifetime_model.set_prms(\n",
    "            mean=self.parameters[\"product lifetimes\"],\n",
    "            std=0.5*self.parameters[\"product lifetimes\"],\n",
    "        )\n",
    "        self.stocks[\"use\"].compute()\n",
    "\n",
    "        # end-of-life  flow\n",
    "        self.flows[\"use => waste\"][...] = self.stocks[\"use\"].outflow\n",
    "\n",
    "        # waste stock\n",
    "        self.stocks[\"waste\"].inflow[...] = self.flows[\"use => waste\"][...]\n",
    "        self.stocks[\"waste\"].compute()\n"
   ]
  },
  {
   "cell_type": "markdown",
   "metadata": {
    "editable": true,
    "slideshow": {
     "slide_type": "slide"
    },
    "tags": []
   },
   "source": [
    "### Init, load & compute"
   ]
  },
  {
   "cell_type": "code",
   "execution_count": null,
   "metadata": {
    "editable": true,
    "slideshow": {
     "slide_type": ""
    },
    "tags": []
   },
   "outputs": [],
   "source": [
    "mfa_example = SimpleMFA.from_csv(\n",
    "    definition=mfa_definition,\n",
    "    dimension_files=dimension_files,\n",
    "    parameter_files=parameter_files,\n",
    ")"
   ]
  },
  {
   "cell_type": "code",
   "execution_count": null,
   "metadata": {
    "editable": true,
    "slideshow": {
     "slide_type": ""
    },
    "tags": []
   },
   "outputs": [],
   "source": [
    "mfa_example.compute()"
   ]
  },
  {
   "cell_type": "code",
   "execution_count": null,
   "metadata": {
    "editable": true,
    "slideshow": {
     "slide_type": ""
    },
    "tags": []
   },
   "outputs": [],
   "source": [
    "import logging\n",
    "\n",
    "logger = logging.getLogger()\n",
    "logger.setLevel(logging.INFO)\n",
    "\n",
    "mfa_example.check_mass_balance()"
   ]
  },
  {
   "cell_type": "markdown",
   "metadata": {
    "editable": true,
    "slideshow": {
     "slide_type": "slide"
    },
    "tags": []
   },
   "source": [
    "### Sankey Plotting"
   ]
  },
  {
   "cell_type": "code",
   "execution_count": null,
   "metadata": {},
   "outputs": [],
   "source": [
    "import flodym.export as fde\n",
    "\n",
    "fig = fde.PlotlySankeyPlotter(mfa=mfa_example, exclude_processes=[]).plot()\n",
    "fig.show()"
   ]
  }
 ],
 "metadata": {
  "kernelspec": {
   "display_name": "Python 3 (ipykernel)",
   "language": "python",
   "name": "python3"
  },
  "language_info": {
   "codemirror_mode": {
    "name": "ipython",
    "version": 3
   },
   "file_extension": ".py",
   "mimetype": "text/x-python",
   "name": "python",
   "nbconvert_exporter": "python",
   "pygments_lexer": "ipython3",
   "version": "3.13.0"
  }
 },
 "nbformat": 4,
 "nbformat_minor": 4
}
