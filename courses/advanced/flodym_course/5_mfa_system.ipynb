{
 "cells": [
  {
   "cell_type": "markdown",
   "id": "d02385ed-d00f-4c10-b2bb-5b00e86c2588",
   "metadata": {
    "editable": true,
    "slideshow": {
     "slide_type": "slide"
    },
    "tags": []
   },
   "source": [
    "## MFA System"
   ]
  },
  {
   "cell_type": "markdown",
   "id": "5f9afd4e-92d5-4440-9850-558db6983c5a",
   "metadata": {
    "editable": true,
    "slideshow": {
     "slide_type": "slide"
    },
    "tags": []
   },
   "source": [
    "### General points\n",
    "\n",
    "- `FlodymArray` and `Stock` objects work without `MFASystem`\n",
    "\n",
    "- Advantages of `MFASystem`:\n",
    "  - Having all attributes in one namespace, including the \"parent\" dimension set.\n",
    "  - Integrated data read-in\n",
    "  - More export and plotting\n",
    "  - Checks for `NaN` values and mass-balance\n",
    "\n",
    "- Different ways / levels of integration for setup & data read-in\n",
    "  - Shown here: suggested one\n",
    "\n",
    "- Quite some code needed, only to show rough principle"
   ]
  },
  {
   "cell_type": "markdown",
   "id": "6a0503bd-8c7a-4793-b043-20241f27fe8c",
   "metadata": {
    "editable": true,
    "slideshow": {
     "slide_type": "slide"
    },
    "tags": []
   },
   "source": [
    "### Attributes\n",
    "\n",
    "- `dims` (`DimensionSet`)\n",
    "- dictionaries:\n",
    "  - `flows` (name: `Flow`)\n",
    "  - `stocks` (name: `Stock`)\n",
    "  - `processes` (name: `Process`*)\n",
    "  - `parameters`  (name: `Parameter`)"
   ]
  },
  {
   "cell_type": "markdown",
   "id": "4d34e0c4",
   "metadata": {
    "editable": true,
    "slideshow": {
     "slide_type": "slide"
    },
    "tags": []
   },
   "source": [
    "### Three ingredients for MFA System\n",
    "\n",
    "- System Definition\n",
    "  - Which dimensions and processes are there?\n",
    "  - Which flows, parameters, stocks are there?\n",
    "    - Which dimensions do they have?\n",
    "- Data input from files\n",
    "  - dimension items (which years, regions, ...)\n",
    "  - parameter values\n",
    "- Compute routine"
   ]
  },
  {
   "cell_type": "markdown",
   "id": "a720a829-67d3-4ee2-ab45-f0acc3daad91",
   "metadata": {
    "editable": true,
    "slideshow": {
     "slide_type": "slide"
    },
    "tags": []
   },
   "source": [
    "### Definition"
   ]
  },
  {
   "cell_type": "code",
   "execution_count": null,
   "id": "61cab33f-97ec-452f-8234-d7089410f217",
   "metadata": {
    "editable": true,
    "slideshow": {
     "slide_type": ""
    },
    "tags": []
   },
   "outputs": [],
   "source": [
    "import flodym as fd\n",
    "\n",
    "dimension_definitions = [\n",
    "    fd.DimensionDefinition(letter=\"t\", name=\"time\", dtype=int),\n",
    "    fd.DimensionDefinition(letter=\"p\", name=\"product\", dtype=str),\n",
    "]"
   ]
  },
  {
   "cell_type": "code",
   "execution_count": null,
   "id": "42653a8e-6ba9-413c-86f9-b66faeb50902",
   "metadata": {},
   "outputs": [],
   "source": [
    "parameter_definitions = [\n",
    "    fd.ParameterDefinition(name=\"manufacturing\", dim_letters=(\"t\",)),\n",
    "    fd.ParameterDefinition(name=\"manufacturing loss rate\", dim_letters=(\"t\",)),\n",
    "    fd.ParameterDefinition(name=\"product shares\", dim_letters=(\"p\",)),\n",
    "    fd.ParameterDefinition(name=\"product lifetimes\", dim_letters=(\"p\",)),\n",
    "]"
   ]
  },
  {
   "cell_type": "code",
   "execution_count": null,
   "id": "5f57429f-ecad-4f33-9ac8-f18f94bd90eb",
   "metadata": {
    "editable": true,
    "slideshow": {
     "slide_type": "subslide"
    },
    "tags": []
   },
   "outputs": [],
   "source": [
    "process_names = [\n",
    "    \"sysenv\",\n",
    "    \"manufacturing\",\n",
    "    \"use\"\n",
    "]"
   ]
  },
  {
   "cell_type": "code",
   "execution_count": null,
   "id": "05bc3a8c-644c-43de-b44f-354ae82baa35",
   "metadata": {},
   "outputs": [],
   "source": [
    "flow_definitions = [\n",
    "    fd.FlowDefinition(from_process_name=\"sysenv\", to_process_name=\"manufacturing\", dim_letters=(\"t\",)),\n",
    "    fd.FlowDefinition(from_process_name=\"manufacturing\", to_process_name=\"sysenv\", dim_letters=(\"t\",)),\n",
    "    fd.FlowDefinition(from_process_name=\"manufacturing\", to_process_name=\"use\", dim_letters=(\"t\", \"p\")),\n",
    "    fd.FlowDefinition(from_process_name=\"use\", to_process_name=\"sysenv\", dim_letters=(\"t\", \"p\")),\n",
    "]"
   ]
  },
  {
   "cell_type": "code",
   "execution_count": null,
   "id": "4d3f6653-bac1-4e58-bdfa-6fd25bc3e900",
   "metadata": {
    "editable": true,
    "slideshow": {
     "slide_type": "subslide"
    },
    "tags": []
   },
   "outputs": [],
   "source": [
    "stock_definitions = [\n",
    "    fd.StockDefinition(\n",
    "        name=\"use\",\n",
    "        process=\"use\",\n",
    "        dim_letters=(\"t\", \"p\"),\n",
    "        subclass=fd.InflowDrivenDSM,\n",
    "        lifetime_model_class=fd.LogNormalLifetime,\n",
    "    ),\n",
    "]"
   ]
  },
  {
   "cell_type": "code",
   "execution_count": null,
   "id": "3e861a46-3113-4e97-bbbb-5980c893a0f2",
   "metadata": {
    "editable": true,
    "slideshow": {
     "slide_type": "subslide"
    },
    "tags": []
   },
   "outputs": [],
   "source": [
    "mfa_definition = fd.MFADefinition(\n",
    "    dimensions=dimension_definitions,\n",
    "    parameters=parameter_definitions,\n",
    "    processes=process_names,\n",
    "    flows=flow_definitions,\n",
    "    stocks=stock_definitions,\n",
    ")"
   ]
  },
  {
   "cell_type": "markdown",
   "id": "526383db-57ea-45df-9f7f-41d237dbe8a0",
   "metadata": {
    "editable": true,
    "slideshow": {
     "slide_type": "slide"
    },
    "tags": []
   },
   "source": [
    "### Data sources \n",
    "\n",
    "- Only give the locations"
   ]
  },
  {
   "cell_type": "code",
   "execution_count": null,
   "id": "c3372326-bf6e-4982-8139-bdf805e1f90f",
   "metadata": {
    "editable": true,
    "slideshow": {
     "slide_type": ""
    },
    "tags": []
   },
   "outputs": [],
   "source": [
    "dimension_files = {\n",
    "    \"time\": \"data/dimension_time.csv\",\n",
    "    \"product\": \"data/dimension_product.csv\",\n",
    "}\n",
    "\n",
    "# file contents as format example\n",
    "print(open(\"data/dimension_product.csv\", \"r\").read())"
   ]
  },
  {
   "cell_type": "code",
   "execution_count": null,
   "id": "c70c4470-3548-4126-839d-73b9b0c72e8e",
   "metadata": {
    "editable": true,
    "slideshow": {
     "slide_type": "subslide"
    },
    "tags": []
   },
   "outputs": [],
   "source": [
    "parameter_files = {\n",
    "    \"manufacturing\": \"data/parameter_production.csv\",\n",
    "    \"manufacturing loss rate\": \"data/parameter_manufacturing_loss_rate.csv\",\n",
    "    \"product shares\": \"data/parameter_product_shares.csv\",\n",
    "    \"product lifetimes\": \"data/parameter_product_lifetimes.csv\",\n",
    "}\n",
    "\n",
    "# file contents as format example\n",
    "print(open(\"data/parameter_product_shares.csv\", \"r\").read())"
   ]
  },
  {
   "cell_type": "markdown",
   "id": "fae8e47a-3363-4bf5-8ad3-6a1e1cb3a16e",
   "metadata": {
    "editable": true,
    "slideshow": {
     "slide_type": "slide"
    },
    "tags": []
   },
   "source": [
    "### Compute routine: Write your own subclass\n",
    "\n",
    "- Flodym provides `MFASystem` parent class (a pydantic `BaseModel`)\n",
    "- Subclass should implement individual `compute` function\n",
    "  - Has to be consistent with the flows, stocks, and parameters\n",
    "- The rest is up to you (sub-functions etc)"
   ]
  },
  {
   "cell_type": "code",
   "execution_count": null,
   "id": "c3c7554a-1b77-4f23-8b3c-0245adb3f218",
   "metadata": {
    "editable": true,
    "slideshow": {
     "slide_type": "subslide"
    },
    "tags": []
   },
   "outputs": [],
   "source": [
    "class SimpleMFA(fd.MFASystem):\n",
    "    def compute(self):\n",
    "\n",
    "        # manufacturing flows\n",
    "        self.flows[\"sysenv => manufacturing\"][...] = self.parameters[\"manufacturing\"]\n",
    "        self.flows[\"manufacturing => sysenv\"][...] = self.flows[\"sysenv => manufacturing\"] * self.parameters[\"manufacturing loss rate\"]\n",
    "        total_products = self.flows[\"sysenv => manufacturing\"] - self.flows[\"manufacturing => sysenv\"]\n",
    "        self.flows[\"manufacturing => use\"][...] = total_products * self.parameters[\"product shares\"]\n",
    "\n",
    "        # use stock\n",
    "        self.stocks[\"use\"].inflow[...] = self.flows[\"manufacturing => use\"][...]\n",
    "        self.stocks[\"use\"].lifetime_model.set_prms(\n",
    "            mean=self.parameters[\"product lifetimes\"],\n",
    "            std=0.5*self.parameters[\"product lifetimes\"],\n",
    "        )\n",
    "        self.stocks[\"use\"].compute()\n",
    "\n",
    "        # end-of-life  flow\n",
    "        self.flows[\"use => sysenv\"][...] = self.stocks[\"use\"].outflow"
   ]
  },
  {
   "cell_type": "markdown",
   "id": "00b691d1-1767-4b7f-9ad8-3f265f69516c",
   "metadata": {
    "editable": true,
    "slideshow": {
     "slide_type": ""
    },
    "tags": []
   },
   "source": [
    "- notice the automatic flow naming (this is customizable) "
   ]
  },
  {
   "cell_type": "markdown",
   "id": "931feca7-7808-4ead-9337-15081a54be10",
   "metadata": {
    "editable": true,
    "slideshow": {
     "slide_type": "slide"
    },
    "tags": []
   },
   "source": [
    "### Init, load & compute"
   ]
  },
  {
   "cell_type": "code",
   "execution_count": null,
   "id": "ea171954-2b54-43ee-8f11-ea169f91d845",
   "metadata": {
    "editable": true,
    "slideshow": {
     "slide_type": ""
    },
    "tags": []
   },
   "outputs": [],
   "source": [
    "mfa_example = SimpleMFA.from_csv(\n",
    "    definition=mfa_definition,\n",
    "    dimension_files=dimension_files,\n",
    "    parameter_files=parameter_files,\n",
    ")"
   ]
  },
  {
   "cell_type": "code",
   "execution_count": null,
   "id": "8ec92b06-9f18-4a26-b893-b3fa81f4953f",
   "metadata": {
    "editable": true,
    "slideshow": {
     "slide_type": ""
    },
    "tags": []
   },
   "outputs": [],
   "source": [
    "mfa_example.compute()"
   ]
  },
  {
   "cell_type": "code",
   "execution_count": null,
   "id": "2b164b64-aa31-4d05-b20b-f028a90336b1",
   "metadata": {
    "editable": true,
    "slideshow": {
     "slide_type": ""
    },
    "tags": []
   },
   "outputs": [],
   "source": [
    "import logging\n",
    "\n",
    "logger = logging.getLogger()\n",
    "logger.setLevel(logging.INFO)\n",
    "\n",
    "mfa_example.check_mass_balance()"
   ]
  },
  {
   "cell_type": "markdown",
   "id": "76ed6ff2-8043-4f02-b9ba-73dd14aa64ba",
   "metadata": {
    "editable": true,
    "slideshow": {
     "slide_type": "slide"
    },
    "tags": []
   },
   "source": [
    "### Sankey Plotting"
   ]
  },
  {
   "cell_type": "code",
   "execution_count": null,
   "id": "bb7d73d1-b6e1-403d-9026-f2b304739fda",
   "metadata": {},
   "outputs": [],
   "source": [
    "import flodym.export as fde\n",
    "\n",
    "fig = fde.PlotlySankeyPlotter(mfa=mfa_example, exclude_processes=[]).plot()\n",
    "fig.show()"
   ]
  }
 ],
 "metadata": {
  "jupytext": {
   "cell_metadata_filter": "-all",
   "main_language": "python",
   "notebook_metadata_filter": "-all"
  },
  "kernelspec": {
   "display_name": "Python 3 (ipykernel)",
   "language": "python",
   "name": "python3"
  },
  "language_info": {
   "codemirror_mode": {
    "name": "ipython",
    "version": 3
   },
   "file_extension": ".py",
   "mimetype": "text/x-python",
   "name": "python",
   "nbconvert_exporter": "python",
   "pygments_lexer": "ipython3",
   "version": "3.13.0"
  }
 },
 "nbformat": 4,
 "nbformat_minor": 5
}
