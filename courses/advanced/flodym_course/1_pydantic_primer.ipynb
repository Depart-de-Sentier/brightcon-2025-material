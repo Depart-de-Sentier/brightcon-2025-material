{
 "cells": [
  {
   "cell_type": "markdown",
   "id": "ac786160",
   "metadata": {
    "editable": true,
    "slideshow": {
     "slide_type": "slide"
    },
    "tags": []
   },
   "source": [
    "### Outline \n",
    "\n",
    "#### pydantic\n",
    "#### Dimensions and DimensionSets \n",
    "#### Arrays\n",
    "#### Stocks\n",
    "#### MFASystem\n",
    "#### Definition & Data Readers\n",
    "#### Export and Plotting"
   ]
  },
  {
   "cell_type": "markdown",
   "id": "1d41c39e-9802-458d-bbd1-ff943e7cd063",
   "metadata": {
    "editable": true,
    "slideshow": {
     "slide_type": "slide"
    },
    "tags": []
   },
   "source": [
    "## Primer: `pydantic`"
   ]
  },
  {
   "cell_type": "markdown",
   "id": "7e943957",
   "metadata": {
    "editable": true,
    "slideshow": {
     "slide_type": "slide"
    },
    "tags": []
   },
   "source": [
    "### Why `pydantic`?\n",
    "\n",
    "- Checks data types & consistency\n",
    "- reduces boilerplate code"
   ]
  },
  {
   "cell_type": "markdown",
   "id": "fb61a666",
   "metadata": {
    "editable": true,
    "slideshow": {
     "slide_type": "subslide"
    },
    "tags": []
   },
   "source": [
    "Normal python class:"
   ]
  },
  {
   "cell_type": "code",
   "execution_count": null,
   "id": "e3a026c5",
   "metadata": {
    "editable": true,
    "slideshow": {
     "slide_type": ""
    },
    "tags": []
   },
   "outputs": [],
   "source": [
    "class Person:\n",
    "    def __init__(self, name):\n",
    "        self.name = name\n",
    "\n",
    "\n",
    "person_a = Person(\"Adam\")\n",
    "print(person_a.name)"
   ]
  },
  {
   "cell_type": "markdown",
   "id": "0bcac9b6",
   "metadata": {
    "editable": true,
    "slideshow": {
     "slide_type": "subslide"
    },
    "tags": []
   },
   "source": [
    "`pydantic BaseModel` (`__init__` function is pre-implemented):"
   ]
  },
  {
   "cell_type": "code",
   "execution_count": null,
   "id": "b446138b",
   "metadata": {
    "editable": true,
    "lines_to_next_cell": 2,
    "slideshow": {
     "slide_type": ""
    },
    "tags": []
   },
   "outputs": [],
   "source": [
    "from pydantic import BaseModel\n",
    "\n",
    "\n",
    "class Person(BaseModel):\n",
    "    name: str\n",
    "\n",
    "# keyword required for all arguments!\n",
    "person_a = Person(name=\"Adam\")\n",
    "print(person_a.name)"
   ]
  },
  {
   "cell_type": "markdown",
   "id": "af75fb57",
   "metadata": {
    "editable": true,
    "slideshow": {
     "slide_type": "subslide"
    },
    "tags": []
   },
   "source": [
    "Type checking:"
   ]
  },
  {
   "cell_type": "code",
   "execution_count": null,
   "id": "56b6d34e",
   "metadata": {},
   "outputs": [],
   "source": [
    "try:\n",
    "    numbered_person = Person(name=123)\n",
    "except Exception as e:\n",
    "    print(e)"
   ]
  },
  {
   "cell_type": "markdown",
   "id": "77c5a741",
   "metadata": {
    "editable": true,
    "slideshow": {
     "slide_type": "fragment"
    },
    "tags": []
   },
   "source": [
    "For further information on pydantic, please refer to the pydantic documentation."
   ]
  }
 ],
 "metadata": {
  "jupytext": {
   "cell_metadata_filter": "-all",
   "main_language": "python",
   "notebook_metadata_filter": "-all"
  },
  "kernelspec": {
   "display_name": "Python 3 (ipykernel)",
   "language": "python",
   "name": "python3"
  },
  "language_info": {
   "codemirror_mode": {
    "name": "ipython",
    "version": 3
   },
   "file_extension": ".py",
   "mimetype": "text/x-python",
   "name": "python",
   "nbconvert_exporter": "python",
   "pygments_lexer": "ipython3",
   "version": "3.13.0"
  },
  "nbsphinx": {
   "allow_errors": true
  }
 },
 "nbformat": 4,
 "nbformat_minor": 5
}
