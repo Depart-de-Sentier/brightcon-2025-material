{
 "cells": [
  {
   "cell_type": "markdown",
   "metadata": {
    "editable": true,
    "slideshow": {
     "slide_type": ""
    },
    "tags": []
   },
   "source": [
    "# Excercise 1\n",
    "\n",
    "## 1A: Dimensions\n",
    "\n",
    "- Create a dimension set with two dimensions:\n",
    "  - time (letter t) with items 2010, 2020, 2030 and 2040\n",
    "  - element (letter e) with items Fe and Cu\n",
    "- Print the results."
   ]
  },
  {
   "cell_type": "code",
   "execution_count": null,
   "metadata": {},
   "outputs": [],
   "source": [
    "import flodym as fd\n",
    "\n",
    "dims = fd.DimensionSet(dim_list=[\n",
    "    fd.Dimension(name=\"time\", letter=\"t\", items=[2010, 2020, 2030, 2040], dtype=int),\n",
    "    fd.Dimension(name=\"element\", letter=\"e\", items=[\"Fe\", \"Cu\"], dtype=str),\n",
    "])\n",
    "\n",
    "print(dims)"
   ]
  },
  {
   "cell_type": "markdown",
   "metadata": {},
   "source": [
    "## 1B: Arrays\n",
    "\n",
    "You get two numpy arrays with values: \n"
   ]
  },
  {
   "cell_type": "code",
   "execution_count": null,
   "metadata": {},
   "outputs": [],
   "source": [
    "import numpy as np\n",
    "\n",
    "production_values = np.array([\n",
    "    [11, 0.11],\n",
    "    [12, 0.12],\n",
    "    [13, 0.13],\n",
    "    [12, 0.12],\n",
    "])\n",
    "\n",
    "loss_rate_values = np.array([0.1, 0.09, 0.08, 0.07])"
   ]
  },
  {
   "cell_type": "markdown",
   "metadata": {},
   "source": [
    "\n",
    "- 1B1. Create two flodym arrays `production` (dimensions t, e) and `loss_rate` (dimension t) from them.\n",
    "- 1B2. Calculate a new array `losses` (per year and element) as `production` times `loss_rate`\n",
    "- 1B3. Print the copper (\"Cu\") losses over time\n"
   ]
  },
  {
   "cell_type": "code",
   "execution_count": null,
   "metadata": {
    "editable": true,
    "slideshow": {
     "slide_type": ""
    },
    "tags": []
   },
   "outputs": [],
   "source": [
    "# 1B1\n",
    "production = fd.FlodymArray(dims=dims, values=production_values)\n",
    "loss_rate = fd.FlodymArray(dims=dims[(\"t\",)], values=loss_rate_values)\n",
    "\n",
    "# 1B2\n",
    "losses = production * loss_rate\n",
    "\n",
    "# 1B3\n",
    "print(losses[\"Cu\"])"
   ]
  },
  {
   "cell_type": "markdown",
   "metadata": {},
   "source": [
    "\n",
    "### Bonus:\n",
    "- 1B4. Create and empty flodym array `total_losses` (per year, summed over elements)\n",
    "- 1B5. Calculate `total_losses` as `production` times `loss_rate`.\n",
    "- 1B6. Calculate the difference between `losses` and `total_losses` and print the result. What has happened?\n"
   ]
  },
  {
   "cell_type": "code",
   "execution_count": null,
   "metadata": {
    "editable": true,
    "slideshow": {
     "slide_type": ""
    },
    "tags": []
   },
   "outputs": [],
   "source": [
    "# 1B4\n",
    "total_losses = fd.FlodymArray(dims=dims[(\"t\",)])\n",
    "\n",
    "# 1B5\n",
    "total_losses[...] = production * loss_rate\n",
    "\n",
    "# 1B6\n",
    "print(losses - total_losses)"
   ]
  },
  {
   "cell_type": "markdown",
   "metadata": {},
   "source": [
    "## 1C: Stocks\n",
    "\n",
    "- 1C1: Create a simple inflow-driven stock (dimension time) with scalar, log-normal lifetime with a 15 year mean and a 10 year standard deviation. \n",
    "- 1C2: Use `production` minus `losses` as inflow. Compute. Print the stock and outflow.\n"
   ]
  },
  {
   "cell_type": "code",
   "execution_count": null,
   "metadata": {},
   "outputs": [],
   "source": [
    "# 1C1\n",
    "lifetime = fd.lifetime_models.LogNormalLifetime(dims=dims[\"t\",], mean=15, std=10)\n",
    "dsm = fd.InflowDrivenDSM(dims=dims[\"t\",], lifetime_model=lifetime)\n",
    "\n",
    "# 1C2\n",
    "dsm.inflow[...] = production - losses\n",
    "dsm.compute()\n",
    "print(dsm.stock)\n",
    "print(dsm.outflow)"
   ]
  },
  {
   "cell_type": "markdown",
   "metadata": {},
   "source": [
    "### Bonus: \n",
    "- 1C3: Do the same, but keep the element dimension. "
   ]
  },
  {
   "cell_type": "code",
   "execution_count": null,
   "metadata": {},
   "outputs": [],
   "source": [
    "# 1C3\n",
    "lifetime_by_elem = fd.lifetime_models.LogNormalLifetime(dims=dims, mean=15, std=10)\n",
    "dsm_by_elem = fd.InflowDrivenDSM(dims=dims, lifetime_model=lifetime_by_elem)\n",
    "dsm_by_elem.inflow[...] = production - losses\n",
    "dsm_by_elem.compute()\n",
    "print(dsm_by_elem.stock)\n",
    "print(dsm_by_elem.outflow)"
   ]
  }
 ],
 "metadata": {
  "kernelspec": {
   "display_name": "Python 3 (ipykernel)",
   "language": "python",
   "name": "python3"
  },
  "language_info": {
   "codemirror_mode": {
    "name": "ipython",
    "version": 3
   },
   "file_extension": ".py",
   "mimetype": "text/x-python",
   "name": "python",
   "nbconvert_exporter": "python",
   "pygments_lexer": "ipython3",
   "version": "3.13.0"
  }
 },
 "nbformat": 4,
 "nbformat_minor": 4
}
