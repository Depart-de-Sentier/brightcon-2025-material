{
 "cells": [
  {
   "cell_type": "markdown",
   "id": "f8061ea3-ca29-4440-a8e9-2a8bc922a725",
   "metadata": {
    "editable": true,
    "slideshow": {
     "slide_type": "slide"
    },
    "tags": []
   },
   "source": [
    "## Working with FlodymArrays"
   ]
  },
  {
   "cell_type": "markdown",
   "id": "08785912",
   "metadata": {
    "editable": true,
    "slideshow": {
     "slide_type": "slide"
    },
    "tags": []
   },
   "source": [
    "### Initializing arrays\n",
    "\n",
    "- `numpy` arrays with dimension management\n",
    "- defined over a `DimensionSet`. "
   ]
  },
  {
   "cell_type": "code",
   "execution_count": null,
   "id": "0b1a8eec",
   "metadata": {
    "editable": true,
    "lines_to_next_cell": 2,
    "slideshow": {
     "slide_type": "fragment"
    },
    "tags": []
   },
   "outputs": [],
   "source": [
    "import flodym as fd\n",
    "\n",
    "# Create a dimension set\n",
    "dims = fd.DimensionSet(\n",
    "    dim_list=[\n",
    "        fd.Dimension(name=\"Time\", letter=\"t\", items=[2020, 2030, 2050]),\n",
    "        fd.Dimension(name=\"Region\", letter=\"r\", items=[\"EU\", \"US\"]),\n",
    "        fd.Dimension(name=\"Product\", letter=\"p\", items=[\"Vehicles\", \"Buildings\"]),\n",
    "        fd.Dimension(name=\"Grade\", letter=\"g\", items=[\"Carbon Steel\", \"Alloy Steel\"]),\n",
    "    ]\n",
    ")"
   ]
  },
  {
   "cell_type": "code",
   "execution_count": null,
   "id": "6b8e302c",
   "metadata": {
    "editable": true,
    "slideshow": {
     "slide_type": "subslide"
    },
    "tags": []
   },
   "outputs": [],
   "source": [
    "production = fd.FlodymArray(dims=dims[\"t\", \"r\", \"g\"])\n",
    "print(production)"
   ]
  },
  {
   "cell_type": "markdown",
   "id": "b5d25ae5",
   "metadata": {
    "editable": true,
    "slideshow": {
     "slide_type": "subslide"
    },
    "tags": []
   },
   "source": [
    "Optional parameters:\n",
    "- name (default \"unnamed\")\n",
    "- values (default all zeros)"
   ]
  },
  {
   "cell_type": "code",
   "execution_count": null,
   "id": "f793847d",
   "metadata": {
    "editable": true,
    "slideshow": {
     "slide_type": "fragment"
    },
    "tags": []
   },
   "outputs": [],
   "source": [
    "import numpy as np\n",
    "\n",
    "values = 0.2 * np.ones(dims[\"t\", \"r\", \"g\"].shape)\n",
    "flow_production = fd.FlodymArray(name=\"production\", dims=dims[\"t\", \"r\", \"g\"], values=values)\n",
    "print(flow_production)"
   ]
  },
  {
   "cell_type": "markdown",
   "id": "aaf5e2e2-5e05-49ae-ac67-6de36d670796",
   "metadata": {
    "editable": true,
    "slideshow": {
     "slide_type": "slide"
    },
    "tags": []
   },
   "source": [
    "### Math operations\n",
    "\n",
    "Typical operations in MFA, and their dimensions:"
   ]
  },
  {
   "cell_type": "markdown",
   "id": "5a822e7a-889d-4423-bf00-c45271fc8b28",
   "metadata": {
    "editable": true,
    "slideshow": {
     "slide_type": "fragment"
    },
    "tags": []
   },
   "source": [
    "- Addition / Subtraction:\n",
    "  - Only keep dimensions which are in both arrays, sum over others"
   ]
  },
  {
   "cell_type": "markdown",
   "id": "8eef8604-290a-4d21-ad35-cf106391c950",
   "metadata": {
    "editable": true,
    "slideshow": {
     "slide_type": "fragment"
    },
    "tags": []
   },
   "source": [
    "- Multiplication / Division:\n",
    "  - Keep all dimensions present in either array"
   ]
  },
  {
   "cell_type": "markdown",
   "id": "b400531c",
   "metadata": {
    "editable": true,
    "slideshow": {
     "slide_type": "fragment"
    },
    "tags": []
   },
   "source": [
    "- Always possible to reduce information in the result, by summing over some dimensions (preserves total mass flow)"
   ]
  },
  {
   "cell_type": "markdown",
   "id": "4aab6b15-18d0-432c-b0ef-0ffd2f8d9997",
   "metadata": {
    "editable": true,
    "slideshow": {
     "slide_type": "slide"
    },
    "tags": []
   },
   "source": [
    "#### Examples\n",
    "\n",
    "Preparation: Create two more arrays"
   ]
  },
  {
   "cell_type": "code",
   "execution_count": null,
   "id": "2a2624bd",
   "metadata": {
    "editable": true,
    "slideshow": {
     "slide_type": "fragment"
    },
    "tags": []
   },
   "outputs": [],
   "source": [
    "flow_losses = fd.FlodymArray(dims=dims[\"r\", \"t\"], values=0.04 * np.ones(dims[\"r\", \"t\"].shape))\n",
    "prm_loss_rate = fd.FlodymArray(dims=dims[\"t\",], values=0.15 * np.ones(dims[\"t\",].shape))"
   ]
  },
  {
   "cell_type": "markdown",
   "id": "7350582d",
   "metadata": {
    "editable": true,
    "slideshow": {
     "slide_type": "fragment"
    },
    "tags": []
   },
   "source": [
    "Reminder:"
   ]
  },
  {
   "cell_type": "code",
   "execution_count": null,
   "id": "55a4063d-2738-4a46-9556-7c30d52535a7",
   "metadata": {
    "editable": true,
    "slideshow": {
     "slide_type": "fragment"
    },
    "tags": []
   },
   "outputs": [],
   "source": [
    "print(f\"production dims: {str(flow_production.dims.letters)}; losses dims: {str(flow_losses.dims.letters)}\")"
   ]
  },
  {
   "cell_type": "markdown",
   "id": "98ba6ece-bdc4-4dee-a0a8-b011be4fc91a",
   "metadata": {
    "editable": true,
    "slideshow": {
     "slide_type": ""
    },
    "tags": []
   },
   "source": [
    "Addition / Subtraction"
   ]
  },
  {
   "cell_type": "code",
   "execution_count": null,
   "id": "f6a243b4",
   "metadata": {
    "editable": true,
    "slideshow": {
     "slide_type": "fragment"
    },
    "tags": []
   },
   "outputs": [],
   "source": [
    "print(flow_production - flow_losses)"
   ]
  },
  {
   "cell_type": "markdown",
   "id": "613f1aad",
   "metadata": {
    "editable": true,
    "slideshow": {
     "slide_type": "subslide"
    },
    "tags": []
   },
   "source": [
    "What happened here?\n",
    "\n",
    "- dimensions in both arrays (set intersection) are preserved\n",
    "- Other dims are summed over before addition\n",
    "- result is a `FlodymArray`"
   ]
  },
  {
   "cell_type": "markdown",
   "id": "31fa103b",
   "metadata": {
    "editable": true,
    "slideshow": {
     "slide_type": "subslide"
    },
    "tags": []
   },
   "source": [
    "Same for Addition:"
   ]
  },
  {
   "cell_type": "code",
   "execution_count": null,
   "id": "094b43d1",
   "metadata": {
    "editable": true,
    "slideshow": {
     "slide_type": ""
    },
    "tags": []
   },
   "outputs": [],
   "source": [
    "print(flow_production + flow_losses)"
   ]
  },
  {
   "cell_type": "markdown",
   "id": "5fecde31",
   "metadata": {
    "editable": true,
    "slideshow": {
     "slide_type": "subslide"
    },
    "tags": []
   },
   "source": [
    "Multiplication and division are different:\n",
    "\n",
    "Keep all dimensions in either of the inputs, i.e. the set union."
   ]
  },
  {
   "cell_type": "code",
   "execution_count": null,
   "id": "4b36e4ec",
   "metadata": {
    "editable": true,
    "slideshow": {
     "slide_type": "fragment"
    },
    "tags": []
   },
   "outputs": [],
   "source": [
    "# recall:\n",
    "print(f\"production dims: {str(flow_production.dims.letters)}; loss rate dims: {str(prm_loss_rate.dims.letters)}\")\n"
   ]
  },
  {
   "cell_type": "code",
   "execution_count": null,
   "id": "9d58ff66",
   "metadata": {
    "editable": true,
    "slideshow": {
     "slide_type": "subslide"
    },
    "tags": []
   },
   "outputs": [],
   "source": [
    "print(flow_production * prm_loss_rate)"
   ]
  },
  {
   "cell_type": "code",
   "execution_count": null,
   "id": "aff31eeb",
   "metadata": {
    "editable": true,
    "slideshow": {
     "slide_type": "fragment"
    },
    "tags": []
   },
   "outputs": [],
   "source": [
    "print(flow_production / prm_loss_rate)"
   ]
  },
  {
   "cell_type": "markdown",
   "id": "ad1ed882",
   "metadata": {
    "editable": true,
    "slideshow": {
     "slide_type": "slide"
    },
    "tags": []
   },
   "source": [
    "### Caveat\n",
    "\n",
    "- This rule (addition -> dims intersection; multiplication -> dims union) yields the right behavior in *almost* all cases.\n",
    "- There are exceptions!\n",
    "- Stay vigilant: Prescribe result dimensions (next slide)"
   ]
  },
  {
   "cell_type": "markdown",
   "id": "ab4f71f4",
   "metadata": {
    "editable": true,
    "slideshow": {
     "slide_type": "slide"
    },
    "tags": []
   },
   "source": [
    "### Control result dimensions \n",
    "\n",
    "- pre-define array\n",
    "- use the ellipsis slice `[...]`:"
   ]
  },
  {
   "cell_type": "code",
   "execution_count": null,
   "id": "b04fef0d",
   "metadata": {
    "editable": true,
    "slideshow": {
     "slide_type": "fragment"
    },
    "tags": []
   },
   "outputs": [],
   "source": [
    "flow_losses = fd.FlodymArray(name=\"losses\", dims=dims[\"r\", \"t\"])\n",
    "flow_losses[...] = flow_production * prm_loss_rate\n",
    "print(flow_losses)"
   ]
  },
  {
   "cell_type": "markdown",
   "id": "a6866dad-ba2c-4e6c-95f0-1af24048aac0",
   "metadata": {
    "editable": true,
    "slideshow": {
     "slide_type": "fragment"
    },
    "tags": []
   },
   "source": [
    "This only works to reduce dimensions, throws an error if dimensions would have to be added."
   ]
  },
  {
   "cell_type": "markdown",
   "id": "518eb12f",
   "metadata": {
    "editable": true,
    "slideshow": {
     "slide_type": "slide"
    },
    "tags": []
   },
   "source": [
    "### Look-ahead: MFASystems \n",
    "\n",
    "- important to use ellipsis slice on the left hand side! \n",
    "- Why? flows are stored as a dictionary.\n",
    "\n",
    "Dictionaries roughly look like this: "
   ]
  },
  {
   "cell_type": "code",
   "execution_count": null,
   "id": "54ad2a10",
   "metadata": {
    "editable": true,
    "slideshow": {
     "slide_type": "subslide"
    },
    "tags": []
   },
   "outputs": [],
   "source": [
    "flows = {\n",
    "    \"production\": flow_production,\n",
    "    \"losses\": flow_losses,\n",
    "}\n",
    "parameters = {\n",
    "    \"loss_rate\": prm_loss_rate,\n",
    "}"
   ]
  },
  {
   "cell_type": "markdown",
   "id": "e8678bac",
   "metadata": {
    "editable": true,
    "slideshow": {
     "slide_type": "subslide"
    },
    "tags": []
   },
   "source": [
    "Correct operation:"
   ]
  },
  {
   "cell_type": "code",
   "execution_count": null,
   "id": "b936e269",
   "metadata": {
    "editable": true,
    "slideshow": {
     "slide_type": "fragment"
    },
    "tags": []
   },
   "outputs": [],
   "source": [
    "flows[\"losses\"][...] = flows[\"production\"] * parameters[\"loss_rate\"]\n",
    "print(flows[\"losses\"])"
   ]
  },
  {
   "cell_type": "markdown",
   "id": "84cecaf5",
   "metadata": {
    "editable": true,
    "slideshow": {
     "slide_type": "fragment"
    },
    "tags": []
   },
   "source": [
    "Only changes the values of the `FlodymArray` object!"
   ]
  },
  {
   "cell_type": "markdown",
   "id": "08366126",
   "metadata": {
    "editable": true,
    "slideshow": {
     "slide_type": "subslide"
    },
    "tags": []
   },
   "source": [
    "__Wrong__: without the ellipsis slice\n",
    "\n",
    "=> Whole object overwritten, with uncontrolled outcome (changed name and dimensions)"
   ]
  },
  {
   "cell_type": "code",
   "execution_count": null,
   "id": "9b9ab916",
   "metadata": {
    "editable": true,
    "slideshow": {
     "slide_type": "fragment"
    },
    "tags": []
   },
   "outputs": [],
   "source": [
    "flows[\"losses\"] = flows[\"production\"] * parameters[\"loss_rate\"]\n",
    "print(flows[\"losses\"])"
   ]
  },
  {
   "cell_type": "markdown",
   "id": "86287175",
   "metadata": {
    "editable": true,
    "slideshow": {
     "slide_type": "slide"
    },
    "tags": []
   },
   "source": [
    "### Slicing\n",
    "\n",
    "- Access parts of the array with indexing\n",
    "- replaces numpy indexing\n",
    "- independent of number and order of dims and their entries\n",
    "\n",
    "Example:"
   ]
  },
  {
   "cell_type": "code",
   "execution_count": null,
   "id": "26b9b042",
   "metadata": {
    "editable": true,
    "slideshow": {
     "slide_type": ""
    },
    "tags": []
   },
   "outputs": [],
   "source": [
    "# recall\n",
    "print(\"production dimensions: \", flow_production.dims.letters)\n",
    "\n",
    "slice_a1 = flow_production[\"EU\"]\n",
    "print(slice_a1)"
   ]
  },
  {
   "cell_type": "markdown",
   "id": "d34baa95",
   "metadata": {
    "editable": true,
    "slideshow": {
     "slide_type": ""
    },
    "tags": []
   },
   "source": [
    "Further capabilities: \n",
    "- Slice along several dimensions: `flow_production[\"EU\", 2020]`\n",
    "- Alternative dictionary notation to avoid ambiguities: `flow_production[{\"t\": 2020}]`\n",
    "- Several items along one dimension: `flow_production[{\"t\": dims[\"h\"]}]`"
   ]
  },
  {
   "cell_type": "markdown",
   "id": "91ac100a",
   "metadata": {
    "editable": true,
    "slideshow": {
     "slide_type": "subslide"
    },
    "tags": []
   },
   "source": [
    "### Indexing on left-hand side of an assignment\n",
    "\n",
    "Only set a part of the values"
   ]
  },
  {
   "cell_type": "code",
   "execution_count": null,
   "id": "8593491c",
   "metadata": {
    "editable": true,
    "slideshow": {
     "slide_type": ""
    },
    "tags": []
   },
   "outputs": [],
   "source": [
    "flow_losses[\"EU\"] = flow_losses[\"EU\"] * 0.8\n",
    "print(flow_losses.to_df())"
   ]
  },
  {
   "cell_type": "markdown",
   "id": "a77c1922",
   "metadata": {
    "editable": true,
    "slideshow": {
     "slide_type": "slide"
    },
    "tags": []
   },
   "source": [
    "### Read-in\n",
    "\n",
    "- Values from pandas dataframe\n",
    "- Performs checks on data, sorts entries\n",
    "- Switches to allow missing or excess data"
   ]
  },
  {
   "cell_type": "code",
   "execution_count": null,
   "id": "9c4168ef",
   "metadata": {
    "editable": true,
    "slideshow": {
     "slide_type": "fragment"
    },
    "tags": []
   },
   "outputs": [],
   "source": [
    "import pandas as pd\n",
    "\n",
    "df = pd.DataFrame.from_dict({\n",
    "    \"Region\": [\"US\", \"EU\", \"US\", \"EU\", \"US\", \"EU\"],\n",
    "    \"Time\": [2020, 2020, 2030, 2030, 2050, 2050],\n",
    "    \"Value\": [2.6, 1.6, 2.3, 1.3, 2.0, 1.0]\n",
    "})"
   ]
  },
  {
   "cell_type": "code",
   "execution_count": null,
   "id": "43172523-b85c-41b0-9a83-9e205c283f80",
   "metadata": {
    "editable": true,
    "slideshow": {
     "slide_type": "subslide"
    },
    "tags": []
   },
   "outputs": [],
   "source": [
    "print(df)"
   ]
  },
  {
   "cell_type": "code",
   "execution_count": null,
   "id": "88a3b90c-2752-48b0-8757-4ff1fb4d6b77",
   "metadata": {
    "editable": true,
    "slideshow": {
     "slide_type": ""
    },
    "tags": []
   },
   "outputs": [],
   "source": [
    "losses_from_df = fd.FlodymArray.from_df(dims=dims[\"r\", \"t\"], name=\"Prescribed Losses\", df=df)\n",
    "print(losses_from_df)"
   ]
  },
  {
   "cell_type": "markdown",
   "id": "795d45f7-9283-45dc-bf5e-fa2bfaee215d",
   "metadata": {
    "editable": true,
    "slideshow": {
     "slide_type": "slide"
    },
    "tags": []
   },
   "source": [
    "### Plotting and export\n",
    "\n",
    "#### Plotting: \n",
    "\n",
    "- `ArrayPlotter` class (example omitted here)\n",
    "  - Can create plotly and pyplot plots\n",
    "  - Can speed up plotting multiple dimensions to different subplots, line styles, colors\n",
    "- Alternative: Export to df, use plotly yourself "
   ]
  },
  {
   "cell_type": "code",
   "execution_count": null,
   "id": "f839451a-312e-4f60-98bb-a8a2a15fe5d6",
   "metadata": {
    "editable": true,
    "slideshow": {
     "slide_type": "fragment"
    },
    "tags": []
   },
   "outputs": [],
   "source": [
    "# create a fancy array to plot\n",
    "fancy_array = losses_from_df.cast_to(dims[\"r\", \"t\", \"p\"])\n",
    "fancy_array[\"Vehicles\"] *= 1.3"
   ]
  },
  {
   "cell_type": "code",
   "execution_count": null,
   "id": "be1e0ee2",
   "metadata": {
    "editable": true,
    "slideshow": {
     "slide_type": "subslide"
    },
    "tags": []
   },
   "outputs": [],
   "source": [
    "import flodym.export as fde\n",
    "\n",
    "plt = fde.PlotlyArrayPlotter(\n",
    "    array=fancy_array,\n",
    "    intra_line_dim=\"Time\",\n",
    "    linecolor_dim=\"Region\",\n",
    "    subplot_dim=\"Product\"\n",
    ")\n",
    "fig = plt.plot()\n",
    "fig.show()"
   ]
  },
  {
   "cell_type": "markdown",
   "id": "d2f65910",
   "metadata": {
    "editable": true,
    "slideshow": {
     "slide_type": "subslide"
    },
    "tags": []
   },
   "source": [
    "#### Export: to DataFrames"
   ]
  },
  {
   "cell_type": "code",
   "execution_count": null,
   "id": "ba578dc8",
   "metadata": {
    "editable": true,
    "slideshow": {
     "slide_type": ""
    },
    "tags": []
   },
   "outputs": [],
   "source": [
    "df_out = losses_from_df.to_df()\n",
    "print(df_out)"
   ]
  },
  {
   "cell_type": "markdown",
   "id": "449de737",
   "metadata": {
    "editable": true,
    "slideshow": {
     "slide_type": "slide"
    },
    "tags": []
   },
   "source": [
    "### Subclasses \n",
    "\n",
    "- `Parameter` and `StockArray`\n",
    "  - No changes, just for clarity\n",
    "- `Flow`\n",
    "  - links to the processes they connect: `to_process` and `from_process`"
   ]
  }
 ],
 "metadata": {
  "jupytext": {
   "cell_metadata_filter": "-all",
   "main_language": "python",
   "notebook_metadata_filter": "-all"
  },
  "kernelspec": {
   "display_name": "Python 3 (ipykernel)",
   "language": "python",
   "name": "python3"
  },
  "language_info": {
   "codemirror_mode": {
    "name": "ipython",
    "version": 3
   },
   "file_extension": ".py",
   "mimetype": "text/x-python",
   "name": "python",
   "nbconvert_exporter": "python",
   "pygments_lexer": "ipython3",
   "version": "3.13.0"
  }
 },
 "nbformat": 4,
 "nbformat_minor": 5
}
