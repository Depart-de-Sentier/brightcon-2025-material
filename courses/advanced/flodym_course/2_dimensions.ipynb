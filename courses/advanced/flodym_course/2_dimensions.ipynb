{
 "cells": [
  {
   "cell_type": "markdown",
   "id": "a369e07f",
   "metadata": {
    "editable": true,
    "slideshow": {
     "slide_type": "slide"
    },
    "tags": []
   },
   "source": [
    "## Dimensions and DimensionSets\n",
    "\n"
   ]
  },
  {
   "cell_type": "markdown",
   "id": "bf14eb0e-7aba-4114-a2fe-9ead3ef9d94d",
   "metadata": {
    "editable": true,
    "slideshow": {
     "slide_type": "slide"
    },
    "tags": []
   },
   "source": [
    "### `Dimension`\n",
    "\n",
    "- Defined by: `name`, `index_letter`, and `items`.\n",
    "\n"
   ]
  },
  {
   "cell_type": "code",
   "execution_count": null,
   "id": "25185c40",
   "metadata": {
    "editable": true,
    "slideshow": {
     "slide_type": "fragment"
    },
    "tags": []
   },
   "outputs": [],
   "source": [
    "import flodym as fd\n",
    "\n",
    "regions = fd.Dimension(name=\"Region\", letter=\"r\", items=[\"EU\", \"US\"])\n",
    "print(regions)"
   ]
  },
  {
   "cell_type": "markdown",
   "id": "82ad0622",
   "metadata": {
    "editable": true,
    "slideshow": {
     "slide_type": "slide"
    },
    "tags": []
   },
   "source": [
    "### DimensionSets\n",
    "\n",
    "Multiple dimensions are grouped in a DimensionSet object:"
   ]
  },
  {
   "cell_type": "code",
   "execution_count": null,
   "id": "a3348ce1",
   "metadata": {
    "editable": true,
    "scrolled": true,
    "slideshow": {
     "slide_type": ""
    },
    "tags": []
   },
   "outputs": [],
   "source": [
    "time = fd.Dimension(name=\"Time\", letter=\"t\", items=[2020, 2030, 2050])\n",
    "regions = fd.Dimension(name=\"Region\", letter=\"r\", items=[\"EU\", \"US\"])\n",
    "product = fd.Dimension(name=\"Product\", letter=\"p\", items=[\"Vehicles\", \"Buildings\"])\n",
    "grade = fd.Dimension(name=\"Grade\", letter=\"g\", items=[\"Carbon Steel\", \"Stainless\"])\n",
    "\n",
    "dims = fd.DimensionSet(dim_list=[time, regions, product, grade])\n",
    "print(dims)"
   ]
  },
  {
   "cell_type": "markdown",
   "id": "f8d28429",
   "metadata": {
    "editable": true,
    "slideshow": {
     "slide_type": "slide"
    },
    "tags": []
   },
   "source": [
    "### `Dimension` letters should be unique!\n",
    "\n",
    "Never give different `Dimension` objects the same name or letter!"
   ]
  },
  {
   "cell_type": "code",
   "execution_count": null,
   "id": "db040606",
   "metadata": {
    "editable": true,
    "slideshow": {
     "slide_type": ""
    },
    "tags": []
   },
   "outputs": [],
   "source": [
    "time = fd.Dimension(name=\"Time\", letter=\"t\", items=[2020, 2030, 2050])\n",
    "# WRONG! (same letter t)\n",
    "historical_time = fd.Dimension(name=\"Historical Time\", letter=\"t\", items=[2020])\n",
    "\n",
    "try:\n",
    "    wrong_dims = fd.DimensionSet(dim_list=[time, historical_time])\n",
    "except Exception as e:\n",
    "    print(e)"
   ]
  },
  {
   "cell_type": "code",
   "execution_count": null,
   "id": "14b7a7f0-4059-4001-b3f1-f475105edaeb",
   "metadata": {
    "editable": true,
    "slideshow": {
     "slide_type": "subslide"
    },
    "tags": []
   },
   "outputs": [],
   "source": [
    "# Correct\n",
    "historical_time = fd.Dimension(name=\"Historical Time\", letter=\"h\", items=[2020])\n",
    "\n",
    "correct_dims = fd.DimensionSet(dim_list=[time, historical_time])\n",
    "print(correct_dims)"
   ]
  },
  {
   "cell_type": "markdown",
   "id": "a52c4367-9a15-4b8f-a034-cdcd10e64425",
   "metadata": {
    "editable": true,
    "slideshow": {
     "slide_type": "slide"
    },
    "tags": []
   },
   "source": [
    "### `DimensionSet` Indexing\n",
    "\n",
    "Subsets and single dimensions can be extracted by indexing. A single index in square brackets returns a `Dimension`:"
   ]
  },
  {
   "cell_type": "code",
   "execution_count": null,
   "id": "ad353454",
   "metadata": {
    "editable": true,
    "slideshow": {
     "slide_type": ""
    },
    "tags": []
   },
   "outputs": [],
   "source": [
    "print(dims[\"r\"])"
   ]
  },
  {
   "cell_type": "code",
   "execution_count": null,
   "id": "2cb42c23",
   "metadata": {
    "editable": true,
    "slideshow": {
     "slide_type": ""
    },
    "tags": []
   },
   "outputs": [],
   "source": [
    "print(dims[\"Region\"])"
   ]
  },
  {
   "cell_type": "markdown",
   "id": "71e61eba-7549-4142-9f08-c532437db0ce",
   "metadata": {
    "editable": true,
    "slideshow": {
     "slide_type": "subslide"
    },
    "tags": []
   },
   "source": [
    "Several indexes in the square brackets, or a tuple (even with a single item inside), return a `DimensionSet`:"
   ]
  },
  {
   "cell_type": "code",
   "execution_count": null,
   "id": "96ced260",
   "metadata": {
    "editable": true,
    "slideshow": {
     "slide_type": ""
    },
    "tags": []
   },
   "outputs": [],
   "source": [
    "print(dims[\"r\", \"p\"])"
   ]
  },
  {
   "cell_type": "code",
   "execution_count": null,
   "id": "0537a927",
   "metadata": {
    "editable": true,
    "slideshow": {
     "slide_type": ""
    },
    "tags": []
   },
   "outputs": [],
   "source": [
    "print(dims[(\"r\",)])"
   ]
  }
 ],
 "metadata": {
  "kernelspec": {
   "display_name": "Python 3 (ipykernel)",
   "language": "python",
   "name": "python3"
  },
  "language_info": {
   "codemirror_mode": {
    "name": "ipython",
    "version": 3
   },
   "file_extension": ".py",
   "mimetype": "text/x-python",
   "name": "python",
   "nbconvert_exporter": "python",
   "pygments_lexer": "ipython3",
   "version": "3.13.0"
  },
  "toc": {
   "base_numbering": 0
  }
 },
 "nbformat": 4,
 "nbformat_minor": 5
}
