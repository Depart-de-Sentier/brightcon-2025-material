{
 "cells": [
  {
   "cell_type": "markdown",
   "metadata": {},
   "source": [
    "# `bw_timex` Teaching Example - Time-explicit LCA of an Electric Vehicle\n",
    "\n",
    "Here's a rundown of the steps involved in a `TimexLCA`:\n",
    "\n",
    "<div style=\"display: flex; justify-content: center; background-color: white; border-radius: 15px; padding: 10px; width: 600px; margin: auto;\">\n",
    "  <img src=\"workflow.svg\" style=\"border-radius: 15px; width: 100%;\">\n",
    "</div>"
   ]
  },
  {
   "cell_type": "markdown",
   "metadata": {},
   "source": [
    "## **Step 0**: Initial Setup *(normal brightway stuff)*"
   ]
  },
  {
   "cell_type": "markdown",
   "metadata": {},
   "source": [
    "Restore backed-up project with some prepared databases (only do this *once*):"
   ]
  },
  {
   "cell_type": "code",
   "execution_count": 1,
   "metadata": {},
   "outputs": [
    {
     "name": "stderr",
     "output_type": "stream",
     "text": [
      "/Users/timodiepers/anaconda3/envs/timex_teaching/lib/python3.11/site-packages/scikits/__init__.py:1: UserWarning: pkg_resources is deprecated as an API. See https://setuptools.pypa.io/en/latest/pkg_resources.html. The pkg_resources package is slated for removal as early as 2025-11-30. Refrain from using this package or pin to Setuptools<81.\n",
      "  __import__('pkg_resources').declare_namespace(__name__)\n"
     ]
    },
    {
     "ename": "ValueError",
     "evalue": "Can't find file at path: xxxxxxx",
     "output_type": "error",
     "traceback": [
      "\u001b[31m---------------------------------------------------------------------------\u001b[39m",
      "\u001b[31mValueError\u001b[39m                                Traceback (most recent call last)",
      "\u001b[36mCell\u001b[39m\u001b[36m \u001b[39m\u001b[32mIn[1]\u001b[39m\u001b[32m, line 3\u001b[39m\n\u001b[32m      1\u001b[39m \u001b[38;5;28;01mimport\u001b[39;00m\u001b[38;5;250m \u001b[39m\u001b[34;01mbw2io\u001b[39;00m\u001b[38;5;250m \u001b[39m\u001b[38;5;28;01mas\u001b[39;00m\u001b[38;5;250m \u001b[39m\u001b[34;01mbi\u001b[39;00m\n\u001b[32m----> \u001b[39m\u001b[32m3\u001b[39m \u001b[43mbi\u001b[49m\u001b[43m.\u001b[49m\u001b[43mbackup\u001b[49m\u001b[43m.\u001b[49m\u001b[43mrestore_project_directory\u001b[49m\u001b[43m(\u001b[49m\u001b[43mfp\u001b[49m\u001b[43m=\u001b[49m\u001b[33;43m\"\u001b[39;49m\u001b[33;43mxxxxxxx\u001b[39;49m\u001b[33;43m\"\u001b[39;49m\u001b[43m,\u001b[49m\u001b[43m \u001b[49m\u001b[43mproject_name\u001b[49m\u001b[43m=\u001b[49m\u001b[33;43m\"\u001b[39;49m\u001b[33;43mtimex_teaching\u001b[39;49m\u001b[33;43m\"\u001b[39;49m\u001b[43m)\u001b[49m\n",
      "\u001b[36mFile \u001b[39m\u001b[32m~/anaconda3/envs/timex_teaching/lib/python3.11/site-packages/bw2io/backup.py:180\u001b[39m, in \u001b[36mrestore_project_directory\u001b[39m\u001b[34m(fp, project_name, overwrite_existing)\u001b[39m\n\u001b[32m    178\u001b[39m fp_path = Path(fp)\n\u001b[32m    179\u001b[39m \u001b[38;5;28;01mif\u001b[39;00m \u001b[38;5;129;01mnot\u001b[39;00m fp_path.is_file():\n\u001b[32m--> \u001b[39m\u001b[32m180\u001b[39m     \u001b[38;5;28;01mraise\u001b[39;00m \u001b[38;5;167;01mValueError\u001b[39;00m(\u001b[33mf\u001b[39m\u001b[33m\"\u001b[39m\u001b[33mCan\u001b[39m\u001b[33m'\u001b[39m\u001b[33mt find file at path: \u001b[39m\u001b[38;5;132;01m{\u001b[39;00mfp\u001b[38;5;132;01m}\u001b[39;00m\u001b[33m\"\u001b[39m)\n\u001b[32m    182\u001b[39m \u001b[38;5;28;01mdef\u001b[39;00m\u001b[38;5;250m \u001b[39m\u001b[34mget_project_name\u001b[39m(fp):\n\u001b[32m    183\u001b[39m     reader = codecs.getreader(\u001b[33m\"\u001b[39m\u001b[33mutf-8\u001b[39m\u001b[33m\"\u001b[39m)\n",
      "\u001b[31mValueError\u001b[39m: Can't find file at path: xxxxxxx"
     ]
    }
   ],
   "source": [
    "import bw2io as bi\n",
    "\n",
    "bi.backup.restore_project_directory(fp=\"xxxxxxx\", project_name=\"timex_teaching\")"
   ]
  },
  {
   "cell_type": "code",
   "execution_count": 2,
   "metadata": {},
   "outputs": [],
   "source": [
    "import bw2data as bd\n",
    "\n",
    "bd.projects.set_current(\"timex_teaching\")"
   ]
  },
  {
   "cell_type": "code",
   "execution_count": 3,
   "metadata": {},
   "outputs": [],
   "source": [
    "if \"foreground\" in bd.databases:\n",
    "    del bd.databases[\"foreground\"] # to make sure we create the foreground from scratch\n",
    "foreground = bd.Database(\"foreground\")\n",
    "foreground.register()"
   ]
  },
  {
   "cell_type": "markdown",
   "metadata": {},
   "source": [
    "```mermaid\n",
    "flowchart LR\n",
    "    car_prod_wo_battery(market for passenger car, electric, without battery, GLO):::ei-->ev_production\n",
    "    battery_production(market for battery, Li-ion, LiMn2O4, rechargeable, prismatic, GLO):::ei-->ev_production\n",
    "    ev_production(ev production):::fg-->driving\n",
    "    electricity_generation(market group for electricity, low voltage, GLO):::ei-->driving\n",
    "    driving(driving ev):::fg-->battery_eol(market for used Li-ion battery, GLO):::ei\n",
    "    driving-->fu(FU: driving 100,000 km)\n",
    "\n",
    "    classDef ei color:#222832, fill:#3fb1c5, stroke:none;\n",
    "    classDef fg color:#222832, fill:#9c5ffd, stroke:none;\n",
    "```"
   ]
  },
  {
   "cell_type": "markdown",
   "metadata": {},
   "source": [
    "Legend:\n",
    "```mermaid\n",
    "flowchart TB\n",
    "    background(background process):::ei\n",
    "    foreground(foreground process):::fg\n",
    "\n",
    "    classDef ei color:#222832, fill:#3fb1c5, stroke:none;\n",
    "    classDef fg color:#222832, fill:#9c5ffd, stroke:none;\n",
    "```"
   ]
  },
  {
   "cell_type": "markdown",
   "metadata": {},
   "source": [
    "### Creating foreground processes"
   ]
  },
  {
   "cell_type": "code",
   "execution_count": 4,
   "metadata": {},
   "outputs": [],
   "source": [
    "ev_production = foreground.new_node(\"ev_production\", name=\"production of an electric vehicle\", unit=\"unit\")\n",
    "ev_production['reference product'] = \"electric vehicle\"\n",
    "ev_production.save()\n",
    "\n",
    "driving = foreground.new_node(\"driving\", name=\"driving an electric vehicle\", unit=\"pkm over ev lifetime\")\n",
    "driving['reference product'] = \"person transport\"\n",
    "driving.save()"
   ]
  },
  {
   "cell_type": "markdown",
   "metadata": {},
   "source": [
    "### Adding exchanges"
   ]
  },
  {
   "cell_type": "code",
   "execution_count": 5,
   "metadata": {},
   "outputs": [],
   "source": [
    "ELECTRICITY_CONSUMPTION = 0.2 # kWh/km\n",
    "LIFETIME_KM = 100_000 # km\n",
    "MASS_CAR_WITHOUT_BATTERY = 840 # kg\n",
    "MASS_BATTERY = 280 # kg"
   ]
  },
  {
   "cell_type": "code",
   "execution_count": 6,
   "metadata": {},
   "outputs": [],
   "source": [
    "car_without_battery = bd.get_node(database=\"ei_cutoff_3.10_remind-eu_SSP2-PkBudg650_2020 2025-10-08\", name=\"market for passenger car, electric, without battery\")\n",
    "battery = bd.get_node(database=\"ei_cutoff_3.10_remind-eu_SSP2-PkBudg650_2020 2025-10-08\", name=\"market for battery, Li-ion, LiMn2O4, rechargeable, prismatic\")\n",
    "electricity = bd.get_node(database=\"ei_cutoff_3.10_remind-eu_SSP2-PkBudg650_2020 2025-10-08\", name=\"market group for electricity, low voltage\", location=\"GLO\")\n",
    "battery_eol = bd.get_node(database=\"ei_cutoff_3.10_remind-eu_SSP2-PkBudg650_2020 2025-10-08\", name=\"market for used Li-ion battery\")"
   ]
  },
  {
   "cell_type": "code",
   "execution_count": 7,
   "metadata": {},
   "outputs": [],
   "source": [
    "ev_production.new_edge(input=ev_production, amount=1, type=\"production\").save()\n",
    "\n",
    "car_without_battery_to_ev = ev_production.new_edge(\n",
    "    input=car_without_battery,\n",
    "    amount=MASS_CAR_WITHOUT_BATTERY,\n",
    "    type=\"technosphere\"\n",
    ")\n",
    "car_without_battery_to_ev.save()\n",
    "\n",
    "battery_to_ev = ev_production.new_edge(\n",
    "    input=battery, \n",
    "    amount=MASS_BATTERY, \n",
    "    type=\"technosphere\"\n",
    ")\n",
    "battery_to_ev.save()"
   ]
  },
  {
   "cell_type": "code",
   "execution_count": 8,
   "metadata": {},
   "outputs": [],
   "source": [
    "driving.new_edge(input=driving, amount=1, type=\"production\").save()\n",
    "\n",
    "ev_to_driving = driving.new_edge(\n",
    "    input=ev_production, \n",
    "    amount=1, \n",
    "    type=\"technosphere\"\n",
    ")\n",
    "ev_to_driving.save()\n",
    "\n",
    "electricity_to_driving = driving.new_edge(\n",
    "    input=electricity,\n",
    "    amount=ELECTRICITY_CONSUMPTION * LIFETIME_KM,\n",
    "    type=\"technosphere\",\n",
    ")\n",
    "electricity_to_driving.save()\n",
    "\n",
    "driving_to_battery_eol = driving.new_edge(\n",
    "    input=battery_eol, \n",
    "    amount=-MASS_BATTERY, # used battery is \"produced\"\n",
    "    type=\"technosphere\"\n",
    ")\n",
    "driving_to_battery_eol.save()"
   ]
  },
  {
   "cell_type": "markdown",
   "metadata": {},
   "source": [
    "With this setup, we could now run a normal, static LCA:"
   ]
  },
  {
   "cell_type": "code",
   "execution_count": 9,
   "metadata": {},
   "outputs": [
    {
     "name": "stderr",
     "output_type": "stream",
     "text": [
      "/Users/timodiepers/anaconda3/envs/timex_teaching/lib/python3.11/site-packages/scikits/umfpack/umfpack.py:736: UmfpackWarning: (almost) singular matrix! (estimated cond. number: 6.62e+12)\n",
      "  warnings.warn(msg, UmfpackWarning)\n"
     ]
    },
    {
     "data": {
      "text/plain": [
       "18990.84521800142"
      ]
     },
     "execution_count": 9,
     "metadata": {},
     "output_type": "execute_result"
    }
   ],
   "source": [
    "import bw2calc as bc\n",
    "\n",
    "method = ('ecoinvent-3.10', 'EF v3.1', 'climate change', 'global warming potential (GWP100)')\n",
    "lca = bc.LCA({driving: 1}, method)\n",
    "lca.lci()\n",
    "lca.lcia()\n",
    "lca.score"
   ]
  },
  {
   "cell_type": "markdown",
   "metadata": {},
   "source": [
    "Lateron, we'll want to use prospective background databases. We create those using [premise](https://premise.readthedocs.io/en/latest/). Here, we use a very optimistic decarbonization scenario (REMIND-EU PkBudg650 -> ~1.5-1.9°C warming by 2100). \n",
    "\n",
    "To enable mapping between the databases, we save the info which database represent what point in time in a dictionary:"
   ]
  },
  {
   "cell_type": "code",
   "execution_count": 10,
   "metadata": {},
   "outputs": [],
   "source": [
    "from datetime import datetime\n",
    "\n",
    "database_dates = {\n",
    "    \"ei_cutoff_3.10_remind-eu_SSP2-PkBudg650_2020 2025-10-08\": datetime.strptime(\"2020\", \"%Y\"),\n",
    "    \"ei_cutoff_3.10_remind-eu_SSP2-PkBudg650_2030 2025-10-08\": datetime.strptime(\"2030\", \"%Y\"),\n",
    "    \"ei_cutoff_3.10_remind-eu_SSP2-PkBudg650_2040 2025-10-08\": datetime.strptime(\"2040\", \"%Y\"),\n",
    "    \"foreground\": \"dynamic\", # Doesn't have a fixed date, but will be distributed over time\n",
    "}"
   ]
  },
  {
   "cell_type": "markdown",
   "metadata": {},
   "source": [
    "## **Step 1**: Adding temporal information"
   ]
  },
  {
   "cell_type": "markdown",
   "metadata": {},
   "source": [
    "```mermaid\n",
    "flowchart LR\n",
    "    car_prod_wo_battery(market for passenger car, electric, without battery, GLO):::ei-->|1-2 years prior|ev_production\n",
    "    battery_production(market for battery, Li-ion, LiMn2O4, rechargeable, prismatic, GLO):::ei-->|6-9 months prior|ev_production\n",
    "    ev_production(ev production):::fg-->|1-3 months prior|driving\n",
    "    electricity_generation(market group for electricity, low voltage, GLO):::ei-->|uniformly distributed over lifetime|driving\n",
    "    driving(driving ev):::fg-->|3 months after lifetime|battery_eol(market for used Li-ion battery, GLO):::ei\n",
    "    driving-->fu(**FU**: driving 100,000 km, *uniformly over lifetime, starting 2025*)\n",
    "\n",
    "    classDef ei color:#222832, fill:#3fb1c5, stroke:none;\n",
    "    classDef fg color:#222832, fill:#9c5ffd, stroke:none;\n",
    "```"
   ]
  },
  {
   "cell_type": "markdown",
   "metadata": {},
   "source": [
    "### The `TemporalDistribution` class"
   ]
  },
  {
   "cell_type": "code",
   "execution_count": 11,
   "metadata": {},
   "outputs": [],
   "source": [
    "from bw_temporalis import TemporalDistribution\n",
    "import numpy as np\n",
    "\n",
    "td_car_without_battery_production = TemporalDistribution(\n",
    "    date=np.array([-2, -1], dtype=\"timedelta64[Y]\"), amount=np.array([0.2, 0.8])\n",
    ")\n",
    "\n",
    "td_assembly_and_delivery = TemporalDistribution(\n",
    "    date=np.array([-3, -2, -1], dtype=\"timedelta64[M]\"), amount=np.array([0.3, 0.5, 0.2])\n",
    ")"
   ]
  },
  {
   "cell_type": "markdown",
   "metadata": {},
   "source": [
    "#### What do these TDs look like?"
   ]
  },
  {
   "cell_type": "code",
   "execution_count": 12,
   "metadata": {},
   "outputs": [
    {
     "data": {
      "text/plain": [
       "<Axes: xlabel='Time (Years)', ylabel='Amount'>"
      ]
     },
     "execution_count": 12,
     "metadata": {},
     "output_type": "execute_result"
    },
    {
     "data": {
      "image/png": "[encoded data removed]",
      "text/plain": [
       "<Figure size 640x480 with 1 Axes>"
      ]
     },
     "metadata": {},
     "output_type": "display_data"
    }
   ],
   "source": [
    "td_car_without_battery_production.graph(resolution=\"Y\")"
   ]
  },
  {
   "cell_type": "code",
   "execution_count": 13,
   "metadata": {},
   "outputs": [
    {
     "data": {
      "text/plain": [
       "<Axes: xlabel='Time (Months)', ylabel='Amount'>"
      ]
     },
     "execution_count": 13,
     "metadata": {},
     "output_type": "execute_result"
    },
    {
     "data": {
      "image/png": "[encoded data removed]",
      "text/plain": [
       "<Figure size 640x480 with 1 Axes>"
      ]
     },
     "metadata": {},
     "output_type": "display_data"
    }
   ],
   "source": [
    "td_assembly_and_delivery.graph(resolution=\"M\")"
   ]
  },
  {
   "cell_type": "code",
   "execution_count": 14,
   "metadata": {},
   "outputs": [
    {
     "data": {
      "text/plain": [
       "<Axes: xlabel='Time (Months)', ylabel='Amount'>"
      ]
     },
     "execution_count": 14,
     "metadata": {},
     "output_type": "execute_result"
    },
    {
     "data": {
      "image/png": "[encoded data removed]",
      "text/plain": [
       "<Figure size 640x480 with 1 Axes>"
      ]
     },
     "metadata": {},
     "output_type": "display_data"
    }
   ],
   "source": [
    "(td_car_without_battery_production * td_assembly_and_delivery).graph(resolution=\"M\")"
   ]
  },
  {
   "cell_type": "markdown",
   "metadata": {},
   "source": [
    "To help with the creation of individual TDs, you can also use our utility jupyter wiget:"
   ]
  },
  {
   "cell_type": "code",
   "execution_count": 15,
   "metadata": {},
   "outputs": [
    {
     "data": {
      "application/vnd.jupyter.widget-view+json": {
       "model_id": "8127ab11829a491b9e3f257ce23e9bfa",
       "version_major": 2,
       "version_minor": 0
      },
      "text/plain": [
       "VBox(children=(ToggleButtons(description='Mode', options=('Generator', 'Manual'), value='Generator'), ToggleBu…"
      ]
     },
     "execution_count": 15,
     "metadata": {},
     "output_type": "execute_result"
    }
   ],
   "source": [
    "from bw_timex.utils import interactive_td_widget\n",
    "\n",
    "interactive_td_widget()"
   ]
  },
  {
   "cell_type": "markdown",
   "metadata": {},
   "source": [
    "#### Creating the remaining TDs"
   ]
  },
  {
   "cell_type": "code",
   "execution_count": 16,
   "metadata": {},
   "outputs": [],
   "source": [
    "from bw_temporalis import easy_timedelta_distribution\n",
    "\n",
    "\n",
    "td_battery_production = easy_timedelta_distribution(\n",
    "    start=-9,\n",
    "    end=-6,\n",
    "    resolution=\"M\",\n",
    "    steps=4,\n",
    "    kind=\"normal\", # you can also use \"uniform\" or \"triangular\"\n",
    "    param=0.5,\n",
    ")\n",
    "\n",
    "LIFETIME = 15 # years\n",
    "td_electricity_consumption = easy_timedelta_distribution(\n",
    "    start=0,\n",
    "    end=LIFETIME,\n",
    "    resolution=\"Y\",\n",
    "    steps=(LIFETIME + 1),\n",
    "    kind=\"uniform\",\n",
    ")\n",
    "\n",
    "td_battery_eol = TemporalDistribution(\n",
    "    date=np.array([LIFETIME * 12 + 3], dtype=\"timedelta64[M]\"), amount=np.array([1])\n",
    ")\n"
   ]
  },
  {
   "cell_type": "markdown",
   "metadata": {},
   "source": [
    "#### Adding TDs to the exchanges"
   ]
  },
  {
   "cell_type": "code",
   "execution_count": 17,
   "metadata": {},
   "outputs": [
    {
     "name": "stderr",
     "output_type": "stream",
     "text": [
      "\u001b[32m2025-10-12 18:44:01.440\u001b[0m | \u001b[1mINFO    \u001b[0m | \u001b[36mbw_timex.utils\u001b[0m:\u001b[36madd_temporal_distribution_to_exchange\u001b[0m:\u001b[36m472\u001b[0m - \u001b[1mAdded temporal distribution to exchange Exchange: 20000.0 kilowatt hour 'market group for electricity, low voltage' (kilowatt hour, GLO, None) to 'driving an electric vehicle' (pkm over ev lifetime, GLO, None)>.\u001b[0m\n",
      "\u001b[32m2025-10-12 18:44:01.447\u001b[0m | \u001b[1mINFO    \u001b[0m | \u001b[36mbw_timex.utils\u001b[0m:\u001b[36madd_temporal_distribution_to_exchange\u001b[0m:\u001b[36m472\u001b[0m - \u001b[1mAdded temporal distribution to exchange Exchange: -280 kilogram 'market for used Li-ion battery' (kilogram, GLO, None) to 'driving an electric vehicle' (pkm over ev lifetime, GLO, None)>.\u001b[0m\n"
     ]
    }
   ],
   "source": [
    "car_without_battery_to_ev['temporal_distribution'] = td_car_without_battery_production\n",
    "car_without_battery_to_ev.save()\n",
    "\n",
    "battery_to_ev['temporal_distribution'] = td_battery_production\n",
    "battery_to_ev.save()\n",
    "\n",
    "ev_to_driving['temporal_distribution'] = td_assembly_and_delivery\n",
    "ev_to_driving.save()\n",
    "\n",
    "# if you dont have the exchange object at hand, you can also use our util function:\n",
    "from bw_timex.utils import add_temporal_distribution_to_exchange\n",
    "\n",
    "add_temporal_distribution_to_exchange(\n",
    "    td_electricity_consumption,\n",
    "    input_node = electricity,\n",
    "    output_node = driving,\n",
    ")\n",
    "\n",
    "add_temporal_distribution_to_exchange(\n",
    "    td_battery_eol,\n",
    "    input_node = battery_eol,\n",
    "    output_node = driving,\n",
    ")"
   ]
  },
  {
   "cell_type": "markdown",
   "metadata": {},
   "source": [
    "## **Step 2**: Building the process timeline"
   ]
  },
  {
   "cell_type": "code",
   "execution_count": 18,
   "metadata": {},
   "outputs": [],
   "source": [
    "from bw_timex import TimexLCA"
   ]
  },
  {
   "cell_type": "code",
   "execution_count": 19,
   "metadata": {},
   "outputs": [
    {
     "name": "stderr",
     "output_type": "stream",
     "text": [
      "\u001b[32m2025-10-12 18:44:04.017\u001b[0m | \u001b[1mINFO    \u001b[0m | \u001b[36mbw_timex.timex_lca\u001b[0m:\u001b[36m__init__\u001b[0m:\u001b[36m114\u001b[0m - \u001b[1mInitializing TimexLCA object...\u001b[0m\n",
      "\u001b[32m2025-10-12 18:44:04.018\u001b[0m | \u001b[1mINFO    \u001b[0m | \u001b[36mbw_timex.timex_lca\u001b[0m:\u001b[36m__init__\u001b[0m:\u001b[36m136\u001b[0m - \u001b[1mCollecting node infos...\u001b[0m\n"
     ]
    }
   ],
   "source": [
    "tlca = TimexLCA({driving: 1}, method, database_dates)"
   ]
  },
  {
   "cell_type": "code",
   "execution_count": 20,
   "metadata": {},
   "outputs": [
    {
     "name": "stderr",
     "output_type": "stream",
     "text": [
      "\u001b[32m2025-10-12 18:44:09.765\u001b[0m | \u001b[1mINFO    \u001b[0m | \u001b[36mbw_timex.timex_lca\u001b[0m:\u001b[36mbuild_timeline\u001b[0m:\u001b[36m216\u001b[0m - \u001b[1mNo edge filter function provided. Skipping all edges in background databases.\u001b[0m\n",
      "\u001b[32m2025-10-12 18:44:12.941\u001b[0m | \u001b[1mINFO    \u001b[0m | \u001b[36mbw_timex.timex_lca\u001b[0m:\u001b[36mbuild_timeline\u001b[0m:\u001b[36m232\u001b[0m - \u001b[1mCalculating base LCA...\u001b[0m\n",
      "/Users/timodiepers/anaconda3/envs/timex_teaching/lib/python3.11/site-packages/scikits/umfpack/umfpack.py:736: UmfpackWarning: (almost) singular matrix! (estimated cond. number: 2.07e+13)\n",
      "  warnings.warn(msg, UmfpackWarning)\n",
      "\u001b[32m2025-10-12 18:44:15.512\u001b[0m | \u001b[1mINFO    \u001b[0m | \u001b[36mbw_timex.timex_lca\u001b[0m:\u001b[36mbuild_timeline\u001b[0m:\u001b[36m242\u001b[0m - \u001b[1mCreating activity time mapping...\u001b[0m\n",
      "\u001b[32m2025-10-12 18:44:15.759\u001b[0m | \u001b[1mINFO    \u001b[0m | \u001b[36mbw_timex.timeline_builder\u001b[0m:\u001b[36m__init__\u001b[0m:\u001b[36m99\u001b[0m - \u001b[1mTraversing supply chain graph...\u001b[0m\n"
     ]
    },
    {
     "name": "stdout",
     "output_type": "stream",
     "text": [
      "Starting graph traversal\n"
     ]
    },
    {
     "name": "stderr",
     "output_type": "stream",
     "text": [
      "\u001b[32m2025-10-12 18:44:22.432\u001b[0m | \u001b[1mINFO    \u001b[0m | \u001b[36mbw_timex.timeline_builder\u001b[0m:\u001b[36mbuild_timeline\u001b[0m:\u001b[36m142\u001b[0m - \u001b[1mBuilding timeline...\u001b[0m\n",
      "\u001b[32m2025-10-12 18:44:22.453\u001b[0m | \u001b[1mINFO    \u001b[0m | \u001b[36mbw_timex.timeline_builder\u001b[0m:\u001b[36mget_weights_for_interpolation_between_nearest_years\u001b[0m:\u001b[36m528\u001b[0m - \u001b[1mReference date 2040-04-01 00:00:00 is higher than all provided dates. Data will be taken from the closest lower year.\u001b[0m\n"
     ]
    },
    {
     "name": "stdout",
     "output_type": "stream",
     "text": [
      "Calculation count: 5\n"
     ]
    },
    {
     "data": {
      "text/html": [
       "<div>\n",
       "<style scoped>\n",
       "    .dataframe tbody tr th:only-of-type {\n",
       "        vertical-align: middle;\n",
       "    }\n",
       "\n",
       "    .dataframe tbody tr th {\n",
       "        vertical-align: top;\n",
       "    }\n",
       "\n",
       "    .dataframe thead th {\n",
       "        text-align: right;\n",
       "    }\n",
       "</style>\n",
       "<table border=\"1\" class=\"dataframe\">\n",
       "  <thead>\n",
       "    <tr style=\"text-align: right;\">\n",
       "      <th></th>\n",
       "      <th>date_producer</th>\n",
       "      <th>producer_name</th>\n",
       "      <th>date_consumer</th>\n",
       "      <th>consumer_name</th>\n",
       "      <th>amount</th>\n",
       "      <th>temporal_market_shares</th>\n",
       "    </tr>\n",
       "  </thead>\n",
       "  <tbody>\n",
       "    <tr>\n",
       "      <th>0</th>\n",
       "      <td>2022-10-01</td>\n",
       "      <td>market for passenger car, electric, without ba...</td>\n",
       "      <td>2024-10-01</td>\n",
       "      <td>production of an electric vehicle</td>\n",
       "      <td>168.0</td>\n",
       "      <td>{'ei_cutoff_3.10_remind-eu_SSP2-PkBudg650_2020...</td>\n",
       "    </tr>\n",
       "    <tr>\n",
       "      <th>1</th>\n",
       "      <td>2022-11-01</td>\n",
       "      <td>market for passenger car, electric, without ba...</td>\n",
       "      <td>2024-11-01</td>\n",
       "      <td>production of an electric vehicle</td>\n",
       "      <td>168.0</td>\n",
       "      <td>{'ei_cutoff_3.10_remind-eu_SSP2-PkBudg650_2020...</td>\n",
       "    </tr>\n",
       "    <tr>\n",
       "      <th>2</th>\n",
       "      <td>2022-12-01</td>\n",
       "      <td>market for passenger car, electric, without ba...</td>\n",
       "      <td>2024-12-01</td>\n",
       "      <td>production of an electric vehicle</td>\n",
       "      <td>168.0</td>\n",
       "      <td>{'ei_cutoff_3.10_remind-eu_SSP2-PkBudg650_2020...</td>\n",
       "    </tr>\n",
       "    <tr>\n",
       "      <th>3</th>\n",
       "      <td>2023-10-01</td>\n",
       "      <td>market for passenger car, electric, without ba...</td>\n",
       "      <td>2024-10-01</td>\n",
       "      <td>production of an electric vehicle</td>\n",
       "      <td>672.0</td>\n",
       "      <td>{'ei_cutoff_3.10_remind-eu_SSP2-PkBudg650_2020...</td>\n",
       "    </tr>\n",
       "    <tr>\n",
       "      <th>4</th>\n",
       "      <td>2023-11-01</td>\n",
       "      <td>market for passenger car, electric, without ba...</td>\n",
       "      <td>2024-11-01</td>\n",
       "      <td>production of an electric vehicle</td>\n",
       "      <td>672.0</td>\n",
       "      <td>{'ei_cutoff_3.10_remind-eu_SSP2-PkBudg650_2020...</td>\n",
       "    </tr>\n",
       "    <tr>\n",
       "      <th>5</th>\n",
       "      <td>2023-12-01</td>\n",
       "      <td>market for passenger car, electric, without ba...</td>\n",
       "      <td>2024-12-01</td>\n",
       "      <td>production of an electric vehicle</td>\n",
       "      <td>672.0</td>\n",
       "      <td>{'ei_cutoff_3.10_remind-eu_SSP2-PkBudg650_2020...</td>\n",
       "    </tr>\n",
       "    <tr>\n",
       "      <th>6</th>\n",
       "      <td>2024-01-01</td>\n",
       "      <td>market for battery, Li-ion, LiMn2O4, rechargea...</td>\n",
       "      <td>2024-10-01</td>\n",
       "      <td>production of an electric vehicle</td>\n",
       "      <td>54.695544</td>\n",
       "      <td>{'ei_cutoff_3.10_remind-eu_SSP2-PkBudg650_2020...</td>\n",
       "    </tr>\n",
       "    <tr>\n",
       "      <th>7</th>\n",
       "      <td>2024-02-01</td>\n",
       "      <td>market for battery, Li-ion, LiMn2O4, rechargea...</td>\n",
       "      <td>2024-10-01</td>\n",
       "      <td>production of an electric vehicle</td>\n",
       "      <td>85.304456</td>\n",
       "      <td>{'ei_cutoff_3.10_remind-eu_SSP2-PkBudg650_2020...</td>\n",
       "    </tr>\n",
       "    <tr>\n",
       "      <th>8</th>\n",
       "      <td>2024-02-01</td>\n",
       "      <td>market for battery, Li-ion, LiMn2O4, rechargea...</td>\n",
       "      <td>2024-11-01</td>\n",
       "      <td>production of an electric vehicle</td>\n",
       "      <td>54.695544</td>\n",
       "      <td>{'ei_cutoff_3.10_remind-eu_SSP2-PkBudg650_2020...</td>\n",
       "    </tr>\n",
       "    <tr>\n",
       "      <th>9</th>\n",
       "      <td>2024-03-01</td>\n",
       "      <td>market for battery, Li-ion, LiMn2O4, rechargea...</td>\n",
       "      <td>2024-10-01</td>\n",
       "      <td>production of an electric vehicle</td>\n",
       "      <td>85.304456</td>\n",
       "      <td>{'ei_cutoff_3.10_remind-eu_SSP2-PkBudg650_2020...</td>\n",
       "    </tr>\n",
       "    <tr>\n",
       "      <th>10</th>\n",
       "      <td>2024-03-01</td>\n",
       "      <td>market for battery, Li-ion, LiMn2O4, rechargea...</td>\n",
       "      <td>2024-11-01</td>\n",
       "      <td>production of an electric vehicle</td>\n",
       "      <td>85.304456</td>\n",
       "      <td>{'ei_cutoff_3.10_remind-eu_SSP2-PkBudg650_2020...</td>\n",
       "    </tr>\n",
       "    <tr>\n",
       "      <th>11</th>\n",
       "      <td>2024-03-01</td>\n",
       "      <td>market for battery, Li-ion, LiMn2O4, rechargea...</td>\n",
       "      <td>2024-12-01</td>\n",
       "      <td>production of an electric vehicle</td>\n",
       "      <td>54.695544</td>\n",
       "      <td>{'ei_cutoff_3.10_remind-eu_SSP2-PkBudg650_2020...</td>\n",
       "    </tr>\n",
       "    <tr>\n",
       "      <th>12</th>\n",
       "      <td>2024-04-01</td>\n",
       "      <td>market for battery, Li-ion, LiMn2O4, rechargea...</td>\n",
       "      <td>2024-10-01</td>\n",
       "      <td>production of an electric vehicle</td>\n",
       "      <td>54.695544</td>\n",
       "      <td>{'ei_cutoff_3.10_remind-eu_SSP2-PkBudg650_2020...</td>\n",
       "    </tr>\n",
       "    <tr>\n",
       "      <th>13</th>\n",
       "      <td>2024-04-01</td>\n",
       "      <td>market for battery, Li-ion, LiMn2O4, rechargea...</td>\n",
       "      <td>2024-11-01</td>\n",
       "      <td>production of an electric vehicle</td>\n",
       "      <td>85.304456</td>\n",
       "      <td>{'ei_cutoff_3.10_remind-eu_SSP2-PkBudg650_2020...</td>\n",
       "    </tr>\n",
       "    <tr>\n",
       "      <th>14</th>\n",
       "      <td>2024-04-01</td>\n",
       "      <td>market for battery, Li-ion, LiMn2O4, rechargea...</td>\n",
       "      <td>2024-12-01</td>\n",
       "      <td>production of an electric vehicle</td>\n",
       "      <td>85.304456</td>\n",
       "      <td>{'ei_cutoff_3.10_remind-eu_SSP2-PkBudg650_2020...</td>\n",
       "    </tr>\n",
       "    <tr>\n",
       "      <th>15</th>\n",
       "      <td>2024-05-01</td>\n",
       "      <td>market for battery, Li-ion, LiMn2O4, rechargea...</td>\n",
       "      <td>2024-11-01</td>\n",
       "      <td>production of an electric vehicle</td>\n",
       "      <td>54.695544</td>\n",
       "      <td>{'ei_cutoff_3.10_remind-eu_SSP2-PkBudg650_2020...</td>\n",
       "    </tr>\n",
       "    <tr>\n",
       "      <th>16</th>\n",
       "      <td>2024-05-01</td>\n",
       "      <td>market for battery, Li-ion, LiMn2O4, rechargea...</td>\n",
       "      <td>2024-12-01</td>\n",
       "      <td>production of an electric vehicle</td>\n",
       "      <td>85.304456</td>\n",
       "      <td>{'ei_cutoff_3.10_remind-eu_SSP2-PkBudg650_2020...</td>\n",
       "    </tr>\n",
       "    <tr>\n",
       "      <th>17</th>\n",
       "      <td>2024-06-01</td>\n",
       "      <td>market for battery, Li-ion, LiMn2O4, rechargea...</td>\n",
       "      <td>2024-12-01</td>\n",
       "      <td>production of an electric vehicle</td>\n",
       "      <td>54.695544</td>\n",
       "      <td>{'ei_cutoff_3.10_remind-eu_SSP2-PkBudg650_2020...</td>\n",
       "    </tr>\n",
       "    <tr>\n",
       "      <th>18</th>\n",
       "      <td>2024-10-01</td>\n",
       "      <td>production of an electric vehicle</td>\n",
       "      <td>2025-01-01</td>\n",
       "      <td>driving an electric vehicle</td>\n",
       "      <td>0.3</td>\n",
       "      <td>None</td>\n",
       "    </tr>\n",
       "    <tr>\n",
       "      <th>19</th>\n",
       "      <td>2024-11-01</td>\n",
       "      <td>production of an electric vehicle</td>\n",
       "      <td>2025-01-01</td>\n",
       "      <td>driving an electric vehicle</td>\n",
       "      <td>0.5</td>\n",
       "      <td>None</td>\n",
       "    </tr>\n",
       "    <tr>\n",
       "      <th>20</th>\n",
       "      <td>2024-12-01</td>\n",
       "      <td>production of an electric vehicle</td>\n",
       "      <td>2025-01-01</td>\n",
       "      <td>driving an electric vehicle</td>\n",
       "      <td>0.2</td>\n",
       "      <td>None</td>\n",
       "    </tr>\n",
       "    <tr>\n",
       "      <th>21</th>\n",
       "      <td>2025-01-01</td>\n",
       "      <td>market group for electricity, low voltage</td>\n",
       "      <td>2025-01-01</td>\n",
       "      <td>driving an electric vehicle</td>\n",
       "      <td>1250.0</td>\n",
       "      <td>{'ei_cutoff_3.10_remind-eu_SSP2-PkBudg650_2020...</td>\n",
       "    </tr>\n",
       "    <tr>\n",
       "      <th>22</th>\n",
       "      <td>2025-01-01</td>\n",
       "      <td>driving an electric vehicle</td>\n",
       "      <td>2025-01-01</td>\n",
       "      <td>-1</td>\n",
       "      <td>1.0</td>\n",
       "      <td>None</td>\n",
       "    </tr>\n",
       "    <tr>\n",
       "      <th>23</th>\n",
       "      <td>2026-01-01</td>\n",
       "      <td>market group for electricity, low voltage</td>\n",
       "      <td>2025-01-01</td>\n",
       "      <td>driving an electric vehicle</td>\n",
       "      <td>1250.0</td>\n",
       "      <td>{'ei_cutoff_3.10_remind-eu_SSP2-PkBudg650_2020...</td>\n",
       "    </tr>\n",
       "    <tr>\n",
       "      <th>24</th>\n",
       "      <td>2027-01-01</td>\n",
       "      <td>market group for electricity, low voltage</td>\n",
       "      <td>2025-01-01</td>\n",
       "      <td>driving an electric vehicle</td>\n",
       "      <td>1250.0</td>\n",
       "      <td>{'ei_cutoff_3.10_remind-eu_SSP2-PkBudg650_2020...</td>\n",
       "    </tr>\n",
       "    <tr>\n",
       "      <th>25</th>\n",
       "      <td>2028-01-01</td>\n",
       "      <td>market group for electricity, low voltage</td>\n",
       "      <td>2025-01-01</td>\n",
       "      <td>driving an electric vehicle</td>\n",
       "      <td>1250.0</td>\n",
       "      <td>{'ei_cutoff_3.10_remind-eu_SSP2-PkBudg650_2020...</td>\n",
       "    </tr>\n",
       "    <tr>\n",
       "      <th>26</th>\n",
       "      <td>2029-01-01</td>\n",
       "      <td>market group for electricity, low voltage</td>\n",
       "      <td>2025-01-01</td>\n",
       "      <td>driving an electric vehicle</td>\n",
       "      <td>1250.0</td>\n",
       "      <td>{'ei_cutoff_3.10_remind-eu_SSP2-PkBudg650_2020...</td>\n",
       "    </tr>\n",
       "    <tr>\n",
       "      <th>27</th>\n",
       "      <td>2030-01-01</td>\n",
       "      <td>market group for electricity, low voltage</td>\n",
       "      <td>2025-01-01</td>\n",
       "      <td>driving an electric vehicle</td>\n",
       "      <td>1250.0</td>\n",
       "      <td>{'ei_cutoff_3.10_remind-eu_SSP2-PkBudg650_2030...</td>\n",
       "    </tr>\n",
       "    <tr>\n",
       "      <th>28</th>\n",
       "      <td>2031-01-01</td>\n",
       "      <td>market group for electricity, low voltage</td>\n",
       "      <td>2025-01-01</td>\n",
       "      <td>driving an electric vehicle</td>\n",
       "      <td>1250.0</td>\n",
       "      <td>{'ei_cutoff_3.10_remind-eu_SSP2-PkBudg650_2030...</td>\n",
       "    </tr>\n",
       "    <tr>\n",
       "      <th>29</th>\n",
       "      <td>2032-01-01</td>\n",
       "      <td>market group for electricity, low voltage</td>\n",
       "      <td>2025-01-01</td>\n",
       "      <td>driving an electric vehicle</td>\n",
       "      <td>1250.0</td>\n",
       "      <td>{'ei_cutoff_3.10_remind-eu_SSP2-PkBudg650_2030...</td>\n",
       "    </tr>\n",
       "    <tr>\n",
       "      <th>30</th>\n",
       "      <td>2033-01-01</td>\n",
       "      <td>market group for electricity, low voltage</td>\n",
       "      <td>2025-01-01</td>\n",
       "      <td>driving an electric vehicle</td>\n",
       "      <td>1250.0</td>\n",
       "      <td>{'ei_cutoff_3.10_remind-eu_SSP2-PkBudg650_2030...</td>\n",
       "    </tr>\n",
       "    <tr>\n",
       "      <th>31</th>\n",
       "      <td>2034-01-01</td>\n",
       "      <td>market group for electricity, low voltage</td>\n",
       "      <td>2025-01-01</td>\n",
       "      <td>driving an electric vehicle</td>\n",
       "      <td>1250.0</td>\n",
       "      <td>{'ei_cutoff_3.10_remind-eu_SSP2-PkBudg650_2030...</td>\n",
       "    </tr>\n",
       "    <tr>\n",
       "      <th>32</th>\n",
       "      <td>2035-01-01</td>\n",
       "      <td>market group for electricity, low voltage</td>\n",
       "      <td>2025-01-01</td>\n",
       "      <td>driving an electric vehicle</td>\n",
       "      <td>1250.0</td>\n",
       "      <td>{'ei_cutoff_3.10_remind-eu_SSP2-PkBudg650_2030...</td>\n",
       "    </tr>\n",
       "    <tr>\n",
       "      <th>33</th>\n",
       "      <td>2036-01-01</td>\n",
       "      <td>market group for electricity, low voltage</td>\n",
       "      <td>2025-01-01</td>\n",
       "      <td>driving an electric vehicle</td>\n",
       "      <td>1250.0</td>\n",
       "      <td>{'ei_cutoff_3.10_remind-eu_SSP2-PkBudg650_2030...</td>\n",
       "    </tr>\n",
       "    <tr>\n",
       "      <th>34</th>\n",
       "      <td>2037-01-01</td>\n",
       "      <td>market group for electricity, low voltage</td>\n",
       "      <td>2025-01-01</td>\n",
       "      <td>driving an electric vehicle</td>\n",
       "      <td>1250.0</td>\n",
       "      <td>{'ei_cutoff_3.10_remind-eu_SSP2-PkBudg650_2030...</td>\n",
       "    </tr>\n",
       "    <tr>\n",
       "      <th>35</th>\n",
       "      <td>2038-01-01</td>\n",
       "      <td>market group for electricity, low voltage</td>\n",
       "      <td>2025-01-01</td>\n",
       "      <td>driving an electric vehicle</td>\n",
       "      <td>1250.0</td>\n",
       "      <td>{'ei_cutoff_3.10_remind-eu_SSP2-PkBudg650_2030...</td>\n",
       "    </tr>\n",
       "    <tr>\n",
       "      <th>36</th>\n",
       "      <td>2039-01-01</td>\n",
       "      <td>market group for electricity, low voltage</td>\n",
       "      <td>2025-01-01</td>\n",
       "      <td>driving an electric vehicle</td>\n",
       "      <td>1250.0</td>\n",
       "      <td>{'ei_cutoff_3.10_remind-eu_SSP2-PkBudg650_2030...</td>\n",
       "    </tr>\n",
       "    <tr>\n",
       "      <th>37</th>\n",
       "      <td>2040-01-01</td>\n",
       "      <td>market group for electricity, low voltage</td>\n",
       "      <td>2025-01-01</td>\n",
       "      <td>driving an electric vehicle</td>\n",
       "      <td>1250.0</td>\n",
       "      <td>{'ei_cutoff_3.10_remind-eu_SSP2-PkBudg650_2040...</td>\n",
       "    </tr>\n",
       "    <tr>\n",
       "      <th>38</th>\n",
       "      <td>2040-04-01</td>\n",
       "      <td>market for used Li-ion battery</td>\n",
       "      <td>2025-01-01</td>\n",
       "      <td>driving an electric vehicle</td>\n",
       "      <td>-280.0</td>\n",
       "      <td>{'ei_cutoff_3.10_remind-eu_SSP2-PkBudg650_2040...</td>\n",
       "    </tr>\n",
       "  </tbody>\n",
       "</table>\n",
       "</div>"
      ],
      "text/plain": [
       "   date_producer                                      producer_name  \\\n",
       "0     2022-10-01  market for passenger car, electric, without ba...   \n",
       "1     2022-11-01  market for passenger car, electric, without ba...   \n",
       "2     2022-12-01  market for passenger car, electric, without ba...   \n",
       "3     2023-10-01  market for passenger car, electric, without ba...   \n",
       "4     2023-11-01  market for passenger car, electric, without ba...   \n",
       "5     2023-12-01  market for passenger car, electric, without ba...   \n",
       "6     2024-01-01  market for battery, Li-ion, LiMn2O4, rechargea...   \n",
       "7     2024-02-01  market for battery, Li-ion, LiMn2O4, rechargea...   \n",
       "8     2024-02-01  market for battery, Li-ion, LiMn2O4, rechargea...   \n",
       "9     2024-03-01  market for battery, Li-ion, LiMn2O4, rechargea...   \n",
       "10    2024-03-01  market for battery, Li-ion, LiMn2O4, rechargea...   \n",
       "11    2024-03-01  market for battery, Li-ion, LiMn2O4, rechargea...   \n",
       "12    2024-04-01  market for battery, Li-ion, LiMn2O4, rechargea...   \n",
       "13    2024-04-01  market for battery, Li-ion, LiMn2O4, rechargea...   \n",
       "14    2024-04-01  market for battery, Li-ion, LiMn2O4, rechargea...   \n",
       "15    2024-05-01  market for battery, Li-ion, LiMn2O4, rechargea...   \n",
       "16    2024-05-01  market for battery, Li-ion, LiMn2O4, rechargea...   \n",
       "17    2024-06-01  market for battery, Li-ion, LiMn2O4, rechargea...   \n",
       "18    2024-10-01                  production of an electric vehicle   \n",
       "19    2024-11-01                  production of an electric vehicle   \n",
       "20    2024-12-01                  production of an electric vehicle   \n",
       "21    2025-01-01          market group for electricity, low voltage   \n",
       "22    2025-01-01                        driving an electric vehicle   \n",
       "23    2026-01-01          market group for electricity, low voltage   \n",
       "24    2027-01-01          market group for electricity, low voltage   \n",
       "25    2028-01-01          market group for electricity, low voltage   \n",
       "26    2029-01-01          market group for electricity, low voltage   \n",
       "27    2030-01-01          market group for electricity, low voltage   \n",
       "28    2031-01-01          market group for electricity, low voltage   \n",
       "29    2032-01-01          market group for electricity, low voltage   \n",
       "30    2033-01-01          market group for electricity, low voltage   \n",
       "31    2034-01-01          market group for electricity, low voltage   \n",
       "32    2035-01-01          market group for electricity, low voltage   \n",
       "33    2036-01-01          market group for electricity, low voltage   \n",
       "34    2037-01-01          market group for electricity, low voltage   \n",
       "35    2038-01-01          market group for electricity, low voltage   \n",
       "36    2039-01-01          market group for electricity, low voltage   \n",
       "37    2040-01-01          market group for electricity, low voltage   \n",
       "38    2040-04-01                     market for used Li-ion battery   \n",
       "\n",
       "   date_consumer                      consumer_name     amount  \\\n",
       "0     2024-10-01  production of an electric vehicle      168.0   \n",
       "1     2024-11-01  production of an electric vehicle      168.0   \n",
       "2     2024-12-01  production of an electric vehicle      168.0   \n",
       "3     2024-10-01  production of an electric vehicle      672.0   \n",
       "4     2024-11-01  production of an electric vehicle      672.0   \n",
       "5     2024-12-01  production of an electric vehicle      672.0   \n",
       "6     2024-10-01  production of an electric vehicle  54.695544   \n",
       "7     2024-10-01  production of an electric vehicle  85.304456   \n",
       "8     2024-11-01  production of an electric vehicle  54.695544   \n",
       "9     2024-10-01  production of an electric vehicle  85.304456   \n",
       "10    2024-11-01  production of an electric vehicle  85.304456   \n",
       "11    2024-12-01  production of an electric vehicle  54.695544   \n",
       "12    2024-10-01  production of an electric vehicle  54.695544   \n",
       "13    2024-11-01  production of an electric vehicle  85.304456   \n",
       "14    2024-12-01  production of an electric vehicle  85.304456   \n",
       "15    2024-11-01  production of an electric vehicle  54.695544   \n",
       "16    2024-12-01  production of an electric vehicle  85.304456   \n",
       "17    2024-12-01  production of an electric vehicle  54.695544   \n",
       "18    2025-01-01        driving an electric vehicle        0.3   \n",
       "19    2025-01-01        driving an electric vehicle        0.5   \n",
       "20    2025-01-01        driving an electric vehicle        0.2   \n",
       "21    2025-01-01        driving an electric vehicle     1250.0   \n",
       "22    2025-01-01                                 -1        1.0   \n",
       "23    2025-01-01        driving an electric vehicle     1250.0   \n",
       "24    2025-01-01        driving an electric vehicle     1250.0   \n",
       "25    2025-01-01        driving an electric vehicle     1250.0   \n",
       "26    2025-01-01        driving an electric vehicle     1250.0   \n",
       "27    2025-01-01        driving an electric vehicle     1250.0   \n",
       "28    2025-01-01        driving an electric vehicle     1250.0   \n",
       "29    2025-01-01        driving an electric vehicle     1250.0   \n",
       "30    2025-01-01        driving an electric vehicle     1250.0   \n",
       "31    2025-01-01        driving an electric vehicle     1250.0   \n",
       "32    2025-01-01        driving an electric vehicle     1250.0   \n",
       "33    2025-01-01        driving an electric vehicle     1250.0   \n",
       "34    2025-01-01        driving an electric vehicle     1250.0   \n",
       "35    2025-01-01        driving an electric vehicle     1250.0   \n",
       "36    2025-01-01        driving an electric vehicle     1250.0   \n",
       "37    2025-01-01        driving an electric vehicle     1250.0   \n",
       "38    2025-01-01        driving an electric vehicle     -280.0   \n",
       "\n",
       "                               temporal_market_shares  \n",
       "0   {'ei_cutoff_3.10_remind-eu_SSP2-PkBudg650_2020...  \n",
       "1   {'ei_cutoff_3.10_remind-eu_SSP2-PkBudg650_2020...  \n",
       "2   {'ei_cutoff_3.10_remind-eu_SSP2-PkBudg650_2020...  \n",
       "3   {'ei_cutoff_3.10_remind-eu_SSP2-PkBudg650_2020...  \n",
       "4   {'ei_cutoff_3.10_remind-eu_SSP2-PkBudg650_2020...  \n",
       "5   {'ei_cutoff_3.10_remind-eu_SSP2-PkBudg650_2020...  \n",
       "6   {'ei_cutoff_3.10_remind-eu_SSP2-PkBudg650_2020...  \n",
       "7   {'ei_cutoff_3.10_remind-eu_SSP2-PkBudg650_2020...  \n",
       "8   {'ei_cutoff_3.10_remind-eu_SSP2-PkBudg650_2020...  \n",
       "9   {'ei_cutoff_3.10_remind-eu_SSP2-PkBudg650_2020...  \n",
       "10  {'ei_cutoff_3.10_remind-eu_SSP2-PkBudg650_2020...  \n",
       "11  {'ei_cutoff_3.10_remind-eu_SSP2-PkBudg650_2020...  \n",
       "12  {'ei_cutoff_3.10_remind-eu_SSP2-PkBudg650_2020...  \n",
       "13  {'ei_cutoff_3.10_remind-eu_SSP2-PkBudg650_2020...  \n",
       "14  {'ei_cutoff_3.10_remind-eu_SSP2-PkBudg650_2020...  \n",
       "15  {'ei_cutoff_3.10_remind-eu_SSP2-PkBudg650_2020...  \n",
       "16  {'ei_cutoff_3.10_remind-eu_SSP2-PkBudg650_2020...  \n",
       "17  {'ei_cutoff_3.10_remind-eu_SSP2-PkBudg650_2020...  \n",
       "18                                               None  \n",
       "19                                               None  \n",
       "20                                               None  \n",
       "21  {'ei_cutoff_3.10_remind-eu_SSP2-PkBudg650_2020...  \n",
       "22                                               None  \n",
       "23  {'ei_cutoff_3.10_remind-eu_SSP2-PkBudg650_2020...  \n",
       "24  {'ei_cutoff_3.10_remind-eu_SSP2-PkBudg650_2020...  \n",
       "25  {'ei_cutoff_3.10_remind-eu_SSP2-PkBudg650_2020...  \n",
       "26  {'ei_cutoff_3.10_remind-eu_SSP2-PkBudg650_2020...  \n",
       "27  {'ei_cutoff_3.10_remind-eu_SSP2-PkBudg650_2030...  \n",
       "28  {'ei_cutoff_3.10_remind-eu_SSP2-PkBudg650_2030...  \n",
       "29  {'ei_cutoff_3.10_remind-eu_SSP2-PkBudg650_2030...  \n",
       "30  {'ei_cutoff_3.10_remind-eu_SSP2-PkBudg650_2030...  \n",
       "31  {'ei_cutoff_3.10_remind-eu_SSP2-PkBudg650_2030...  \n",
       "32  {'ei_cutoff_3.10_remind-eu_SSP2-PkBudg650_2030...  \n",
       "33  {'ei_cutoff_3.10_remind-eu_SSP2-PkBudg650_2030...  \n",
       "34  {'ei_cutoff_3.10_remind-eu_SSP2-PkBudg650_2030...  \n",
       "35  {'ei_cutoff_3.10_remind-eu_SSP2-PkBudg650_2030...  \n",
       "36  {'ei_cutoff_3.10_remind-eu_SSP2-PkBudg650_2030...  \n",
       "37  {'ei_cutoff_3.10_remind-eu_SSP2-PkBudg650_2040...  \n",
       "38  {'ei_cutoff_3.10_remind-eu_SSP2-PkBudg650_2040...  "
      ]
     },
     "execution_count": 20,
     "metadata": {},
     "output_type": "execute_result"
    }
   ],
   "source": [
    "tlca.build_timeline(starting_datetime=\"2025-01-01\", temporal_grouping=\"month\")"
   ]
  },
  {
   "cell_type": "markdown",
   "metadata": {},
   "source": [
    "## **Step 3**: Calculating the time-explicit LCI"
   ]
  },
  {
   "cell_type": "code",
   "execution_count": 21,
   "metadata": {},
   "outputs": [
    {
     "name": "stderr",
     "output_type": "stream",
     "text": [
      "\u001b[32m2025-10-12 18:44:27.772\u001b[0m | \u001b[1mINFO    \u001b[0m | \u001b[36mbw_timex.timex_lca\u001b[0m:\u001b[36mlci\u001b[0m:\u001b[36m360\u001b[0m - \u001b[1mExpanding matrices...\u001b[0m\n",
      "\u001b[32m2025-10-12 18:44:27.793\u001b[0m | \u001b[1mINFO    \u001b[0m | \u001b[36mbw_timex.timex_lca\u001b[0m:\u001b[36mlci\u001b[0m:\u001b[36m379\u001b[0m - \u001b[1mCalculating dynamic inventory...\u001b[0m\n",
      "/Users/timodiepers/anaconda3/envs/timex_teaching/lib/python3.11/site-packages/bw2calc/lca_base.py:127: SparseEfficiencyWarning: splu converted its input to CSC format\n",
      "  self.solver = factorized(self.technosphere_matrix)\n",
      "/Users/timodiepers/anaconda3/envs/timex_teaching/lib/python3.11/site-packages/scikits/umfpack/umfpack.py:736: UmfpackWarning: (almost) singular matrix! (estimated cond. number: 2.84e+12)\n",
      "  warnings.warn(msg, UmfpackWarning)\n",
      "/Users/timodiepers/anaconda3/envs/timex_teaching/lib/python3.11/site-packages/scikits/umfpack/umfpack.py:736: UmfpackWarning: (almost) singular matrix! (estimated cond. number: 2.84e+12)\n",
      "  warnings.warn(msg, UmfpackWarning)\n"
     ]
    }
   ],
   "source": [
    "tlca.lci()"
   ]
  },
  {
   "cell_type": "markdown",
   "metadata": {},
   "source": [
    "Under the hood, before solving the inventory problem, we're re-build the technosphere and biosphere matrices here. New rows and columns are added to carry the extra temporal information. Details are explained in the [Theory Section](https://docs.brightway.dev/projects/bw-timex/en/latest/content/theory.html#modifying-the-matrices) of our docs."
   ]
  },
  {
   "cell_type": "markdown",
   "metadata": {},
   "source": [
    "## **Step 4**: Impact assessment"
   ]
  },
  {
   "cell_type": "markdown",
   "metadata": {},
   "source": [
    "The simplest case, static LCIA:"
   ]
  },
  {
   "cell_type": "code",
   "execution_count": null,
   "metadata": {},
   "outputs": [],
   "source": [
    "tlca.static_lcia()\n",
    "tlca.static_score"
   ]
  },
  {
   "cell_type": "markdown",
   "metadata": {},
   "source": [
    "But there is more: `bw_timex` retains temporal information in the inventory, allowing for dynamic LCIA:"
   ]
  },
  {
   "cell_type": "code",
   "execution_count": null,
   "metadata": {},
   "outputs": [],
   "source": [
    "tlca.dynamic_lcia(metric=\"GWP\")"
   ]
  },
  {
   "cell_type": "code",
   "execution_count": null,
   "metadata": {},
   "outputs": [],
   "source": [
    "from bw_timex.utils import plot_characterized_inventory_as_waterfall\n",
    "plot_characterized_inventory_as_waterfall(tlca)"
   ]
  },
  {
   "cell_type": "markdown",
   "metadata": {},
   "source": [
    "In addition to the \"standard\" GWP, we can go even more dynamic, directly assessing radiative forcing:"
   ]
  },
  {
   "cell_type": "code",
   "execution_count": null,
   "metadata": {},
   "outputs": [],
   "source": [
    "tlca.dynamic_lcia(\n",
    "    metric=\"radiative_forcing\",\n",
    "    time_horizon=30,\n",
    ")"
   ]
  },
  {
   "cell_type": "code",
   "execution_count": null,
   "metadata": {},
   "outputs": [],
   "source": [
    "tlca.plot_dynamic_characterized_inventory(\n",
    "    sum_emissions_within_activity=True,\n",
    ")"
   ]
  }
 ],
 "metadata": {
  "kernelspec": {
   "display_name": "Python 3 (ipykernel)",
   "language": "python",
   "name": "python3"
  },
  "language_info": {
   "codemirror_mode": {
    "name": "ipython",
    "version": 3
   },
   "file_extension": ".py",
   "mimetype": "text/x-python",
   "name": "python",
   "nbconvert_exporter": "python",
   "pygments_lexer": "ipython3",
   "version": "3.11.0"
  }
 },
 "nbformat": 4,
 "nbformat_minor": 4
}
