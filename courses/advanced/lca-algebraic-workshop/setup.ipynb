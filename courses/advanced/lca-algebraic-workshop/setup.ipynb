{
 "cells": [
  {
   "cell_type": "code",
   "execution_count": null,
   "id": "df8eb838-77cf-4d68-8e7a-baf830245039",
   "metadata": {},
   "outputs": [],
   "source": [
    "import bw2data as bd\n",
    "import bw2io as bi\n",
    "\n",
    "NAME_PROJECT='workshop-bw25'\n",
    "\n",
    "#Open a brightway project associated with the project name chosen\n",
    "bd.projects.set_current(NAME_PROJECT)\n",
    "\n",
    "\n",
    "#bi.import_ecoinvent_release(\n",
    "#        version=\"3.10.1\",\n",
    "#        system_model=\"cutoff\",\n",
    "#        use_mp=True\n",
    "        #username=\"XX\",\n",
    "        #password=\"yy\"\n",
    "#        )\n",
    "\n",
    "# For those that have a valid ecoinvent license, you can simply restore a project with:\n",
    "# bi.restore_project_directory(\"/srv/data/brightway2-project-workshop-bw25-backup13-October-2025-05-30PM.tar.gz\", overwrite_existing=True)\n"
   ]
  }
 ],
 "metadata": {
  "kernelspec": {
   "display_name": "Python [conda env:algebraic]",
   "language": "python",
   "name": "conda-env-algebraic-py"
  },
  "language_info": {
   "codemirror_mode": {
    "name": "ipython",
    "version": 3
   },
   "file_extension": ".py",
   "mimetype": "text/x-python",
   "name": "python",
   "nbconvert_exporter": "python",
   "pygments_lexer": "ipython3",
   "version": "3.12.0"
  }
 },
 "nbformat": 4,
 "nbformat_minor": 5
}

