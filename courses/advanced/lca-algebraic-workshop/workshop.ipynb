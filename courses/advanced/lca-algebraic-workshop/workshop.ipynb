{
 "cells": [
  {
   "cell_type": "markdown",
   "id": "5326a70a",
   "metadata": {},
   "source": [
    "# Introduction\n",
    "\n",
    "This workshop shows the protocol **INCER-ACV** and the complementary library [lca_algebraic](https://github.com/oie-mines-paristech/lca_algebraic) developed in the framework of the ADEME project INCER-ACV (2017-2020), using the **simplified case study** of a **photovoltaïc** facility as an example.\n",
    "\n",
    "Full information about lca_algebraic fonctions is [available online](https://lca-algebraic.readthedocs.io/en/stable/)\n",
    "\n",
    "We invite you to open this notebook and run all its cells in order. \n",
    "\n",
    "Certain sections require some cells to be completed (TODO), they are highlighted with the icone `🔧` : use previous cells as an example to fill in the missing code.\n",
    "\n",
    "Other cells contain questions and ask you to examine the results. They are marked with an `💡`\n"
   ]
  },
  {
   "cell_type": "markdown",
   "id": "6c1ed425",
   "metadata": {},
   "source": [
    "# Initialization\n",
    "\n",
    "Instractions for initialization of the library are grouped in an external file named \"init.py\""
   ]
  },
  {
   "cell_type": "code",
   "execution_count": null,
   "id": "56a6bfa3",
   "metadata": {
    "ExecuteTime": {
     "end_time": "2025-10-02T14:11:38.289216Z",
     "start_time": "2025-10-02T14:11:34.834776Z"
    }
   },
   "outputs": [],
   "source": [
    "%load_ext autoreload\n",
    "%autoreload 2\n",
    "%matplotlib inline\n",
    "\n",
    "import bw2data as bd\n",
    "import bw2io as bi\n",
    "import lca_algebraic as agb"
   ]
  },
  {
   "cell_type": "code",
   "execution_count": null,
   "id": "387fb511",
   "metadata": {
    "ExecuteTime": {
     "end_time": "2025-10-02T12:37:22.991334Z",
     "start_time": "2025-10-02T12:37:22.971056Z"
    }
   },
   "outputs": [],
   "source": [
    "# To do : update the name of the bightway project\n",
    "NAME_PROJECT='workshop-bw25'\n",
    "\n",
    "# To do : update the name of the user database that will be stored in the brightway project\n",
    "USER_DB='foreground'"
   ]
  },
  {
   "cell_type": "code",
   "execution_count": null,
   "id": "9fbd213f",
   "metadata": {
    "ExecuteTime": {
     "end_time": "2025-10-02T12:37:23.065673Z",
     "start_time": "2025-10-02T12:37:23.028092Z"
    }
   },
   "outputs": [],
   "source": [
    "#Open a brightway project associated with the project name chosen\n",
    "bd.projects.set_current(NAME_PROJECT)"
   ]
  },
  {
   "cell_type": "code",
   "execution_count": null,
   "id": "b1db4580d38af2ca",
   "metadata": {
    "ExecuteTime": {
     "end_time": "2025-10-02T12:37:23.224360Z",
     "start_time": "2025-10-02T12:37:23.199158Z"
    }
   },
   "outputs": [],
   "source": [
    "# Import Ecoinvent Database (should be done only once)\n",
    "if len(bd.databases) > 0:\n",
    "    print(\"Initial setup already done, skipping\")\n",
    "else:\n",
    "    bi.import_ecoinvent_release(\n",
    "        version=\"3.10.1\",\n",
    "        system_model=\"cutoff\",\n",
    "        use_mp=True)"
   ]
  },
  {
   "cell_type": "code",
   "execution_count": null,
   "id": "e280cead",
   "metadata": {
    "ExecuteTime": {
     "end_time": "2025-10-02T12:37:23.486054Z",
     "start_time": "2025-10-02T12:37:23.358767Z"
    }
   },
   "outputs": [],
   "source": [
    "# We use a separate DB for defining our model, reset it beforehand\n",
    "agb.resetDb(USER_DB)\n",
    "\n",
    "# Reset the definition of all parameters \n",
    "agb.resetParams()"
   ]
  },
  {
   "cell_type": "code",
   "execution_count": null,
   "id": "3d0a6eaa",
   "metadata": {
    "ExecuteTime": {
     "end_time": "2025-10-02T12:37:23.553087Z",
     "start_time": "2025-10-02T12:37:23.504460Z"
    }
   },
   "outputs": [],
   "source": [
    "# Print the databases that have been set up with lca_algebraic function\n",
    "agb.list_databases() \n",
    "\n",
    "#It also works with the following command\n",
    "#bw.databases"
   ]
  },
  {
   "cell_type": "code",
   "execution_count": null,
   "id": "38833855",
   "metadata": {
    "ExecuteTime": {
     "end_time": "2025-10-02T12:37:23.686761Z",
     "start_time": "2025-10-02T12:37:23.651716Z"
    }
   },
   "outputs": [],
   "source": [
    "#Optional : if you need to delete a USER_DB\n",
    "# del bd.databases[USER_DB]"
   ]
  },
  {
   "cell_type": "code",
   "execution_count": null,
   "id": "0757e880",
   "metadata": {
    "ExecuteTime": {
     "end_time": "2025-10-02T12:37:23.972236Z",
     "start_time": "2025-10-02T12:37:23.948616Z"
    }
   },
   "outputs": [],
   "source": [
    "#Optional : If you need to manipulate a database, give it a variable name\n",
    "#ecoinvent_3_4 = bw2data.Database('ecoinvent 3.4')"
   ]
  },
  {
   "cell_type": "markdown",
   "id": "4865c0b1",
   "metadata": {},
   "source": [
    "# Parameter definition \n",
    "\n",
    "Firstly, we define the parameters needed for the system's modeling (photovoltaic -PV- facility).\n",
    "\n",
    "**lca_algebraic** allows the definition of 3 types of parameters :\n",
    "* Numerical values, via the method `newFloatParam(...)`\n",
    "* Boolean value (0 or 1), via the method `newBoolParam(...)`\n",
    "* Exclusive choice, corresponding internally to the definition of several boolean parameters, via the function `newEnumParam(...)`\n",
    "\n",
    "For each parameter, we define:\n",
    "* The name (short) and the label (long)\n",
    "* The value by default\n",
    "* The minimum and maximum values, and the probability distribution (uniform by default)\n",
    "* The unit\n",
    "* The \"group\" : a way of organizing the parameters\n",
    "* A description\n",
    "\n",
    "The variable parameters resulting from this definition will be later used in typical Python expressions, to define the amounts of the inventory. "
   ]
  },
  {
   "cell_type": "code",
   "execution_count": null,
   "id": "d0bfb3d1",
   "metadata": {
    "ExecuteTime": {
     "end_time": "2025-10-02T12:37:24.127244Z",
     "start_time": "2025-10-02T12:37:24.064574Z"
    }
   },
   "outputs": [],
   "source": [
    "# The nominal power installed \n",
    "nom_power = agb.newFloatParam(\n",
    "    \"nom_power\", # Short name\n",
    "    default=1500, min=3, max=3000, # Default value and minimum and maximum values : uniform distribution by default\n",
    "    label_fr='puissance installee', # Long label\n",
    "    group=\"installation\", # Group\n",
    "    unit=\"kWp\") # unit : kWp"
   ]
  },
  {
   "cell_type": "markdown",
   "id": "1386ba15",
   "metadata": {},
   "source": [
    "## Parameter specificities : delayed evaluation\n",
    "\n",
    "Contrarily to typical Python variables, the **parameters** defined here are *SymPy* expressions: they are not directly evaluated when included in the expressions. They define formulas literally, which can then be used in the inventory and will be manipulated/evaluated later by the library."
   ]
  },
  {
   "cell_type": "code",
   "execution_count": null,
   "id": "29f3a339",
   "metadata": {
    "ExecuteTime": {
     "end_time": "2025-10-02T12:37:24.191208Z",
     "start_time": "2025-10-02T12:37:24.151621Z"
    }
   },
   "outputs": [],
   "source": [
    "# typical python variable\n",
    "a = 2\n",
    "\n",
    "# The evaluation is direct\n",
    "a + 2"
   ]
  },
  {
   "cell_type": "code",
   "execution_count": null,
   "id": "18ce772a",
   "metadata": {
    "ExecuteTime": {
     "end_time": "2025-10-02T12:37:24.302322Z",
     "start_time": "2025-10-02T12:37:24.257558Z"
    }
   },
   "outputs": [],
   "source": [
    "# On the contrary, a parameter defined with lca_algebraic, used in a mathematical expression, \n",
    "# results in a new algebraic formula, which will be later manipulated by the library\n",
    "4 * nom_power + 2"
   ]
  },
  {
   "cell_type": "code",
   "execution_count": null,
   "id": "ef499361",
   "metadata": {
    "ExecuteTime": {
     "end_time": "2025-10-02T12:37:24.417999Z",
     "start_time": "2025-10-02T12:37:24.361557Z"
    }
   },
   "outputs": [],
   "source": [
    "# The efficiency of a module, in kWc per m2\n",
    "efficiency_module = agb.newFloatParam(\n",
    "    \"efficiency_module\",\n",
    "    distrib=agb.DistributionType.TRIANGLE, # Triangle distribution, asigning higher likelihood to values near the default value\n",
    "    default=0.175, min=0.15, max=0.22,\n",
    "    group=\"installation\",\n",
    "    label_fr=\"efficacite module\",\n",
    "    description=\"efficiency of the module per installed surface\",\n",
    "    unit=\"kWp/m²\")"
   ]
  },
  {
   "cell_type": "code",
   "execution_count": null,
   "id": "04ecfd8e",
   "metadata": {
    "ExecuteTime": {
     "end_time": "2025-10-02T12:37:24.470998Z",
     "start_time": "2025-10-02T12:37:24.431595Z"
    }
   },
   "outputs": [],
   "source": [
    "# Boolean parameter defining the type of installation\n",
    "#  1 : rooftop installation \n",
    "#  0 : gound installation \n",
    "rooftop = agb.newBoolParam(\n",
    "    \"rooftop\",\n",
    "    1, # Default value : rooftop\n",
    "    group=\"installation\",\n",
    "    label=\"roof system\",\n",
    "    label_fr=\"installation sur toit\",\n",
    "    description=\"defines the type of installation (rooftop / ground)\")"
   ]
  },
  {
   "cell_type": "code",
   "execution_count": null,
   "id": "7d7f4d02",
   "metadata": {
    "ExecuteTime": {
     "end_time": "2025-10-02T12:37:24.543139Z",
     "start_time": "2025-10-02T12:37:24.492290Z"
    }
   },
   "outputs": [],
   "source": [
    "# Selection parameter \"enum\" among several exclusive choices of electricity mix\n",
    "# Internally, the parameter defines 5 boolean parameters:\n",
    "elec_mix = agb.newEnumParam(\n",
    "    'elec_mix', # Name of the parameter\n",
    "    values={ # Statistical likelihood of each option, corresponding to current market reality.\n",
    "        \"jp\": 2.4,\n",
    "        \"kr\": 7.4,\n",
    "        \"cn\": 71.4,\n",
    "        \"ml\": 5.7,\n",
    "        \"in\": 2.1\n",
    "    },\n",
    "    default=\"cn\", # Default value\n",
    "    label_fr='mix electrique',\n",
    "    group='manufacturing', # Classification of parameters in \"groups\"\n",
    "    description=\"electricity mix used in the production of a module\")"
   ]
  },
  {
   "cell_type": "markdown",
   "id": "2cdfaf16",
   "metadata": {},
   "source": [
    "## 🔧  Inverter lifetime\n",
    "\n",
    "Define a parameter \"inverter_lifetime\" with a 15 year value with a triangle distribution between 10 and 30 in the group \"production\""
   ]
  },
  {
   "cell_type": "code",
   "execution_count": null,
   "id": "dd40abe2",
   "metadata": {
    "ExecuteTime": {
     "end_time": "2025-10-02T12:37:24.607028Z",
     "start_time": "2025-10-02T12:37:24.555359Z"
    }
   },
   "outputs": [],
   "source": [
    "# Inverter lifetime \n",
    "# 🔧 TODO\n",
    "lifetime_inverter = agb.newFloatParam( ...)"
   ]
  },
  {
   "cell_type": "code",
   "execution_count": null,
   "id": "0aeef37b",
   "metadata": {
    "ExecuteTime": {
     "end_time": "2025-10-02T12:37:24.717788Z",
     "start_time": "2025-10-02T12:37:24.622588Z"
    }
   },
   "outputs": [],
   "source": [
    "# Distance travelled for the installation, by lorry\n",
    "d_lorry = agb.newFloatParam(\n",
    "    \"d_lorry\",\n",
    "    default=1020, min=40, max=2000,\n",
    "    unit=\"km\",\n",
    "    group=\"transport\",\n",
    "    label_fr=\"distance par camion\")"
   ]
  },
  {
   "cell_type": "code",
   "execution_count": null,
   "id": "d2b19bc0",
   "metadata": {
    "ExecuteTime": {
     "end_time": "2025-10-02T12:37:24.766178Z",
     "start_time": "2025-10-02T12:37:24.731076Z"
    }
   },
   "outputs": [],
   "source": [
    "# Distance travelled for the installation, by train\n",
    "d_train = agb.newFloatParam(\n",
    "    \"d_train\",\n",
    "    default=350, min=100, max=600,\n",
    "    unit=\"km\",\n",
    "    group=\"transport\",\n",
    "    label_fr=\"distance par train\")"
   ]
  },
  {
   "cell_type": "code",
   "execution_count": null,
   "id": "3200d902",
   "metadata": {
    "ExecuteTime": {
     "end_time": "2025-10-02T12:37:24.824164Z",
     "start_time": "2025-10-02T12:37:24.783922Z"
    }
   },
   "outputs": [],
   "source": [
    "# Distance travelled for the installation, by ship \n",
    "d_ship = agb.newFloatParam(\n",
    "    \"d_ship\",\n",
    "    default=4000, min=2000, max=6000,\n",
    "    unit=\"km\",\n",
    "    group=\"transport\",\n",
    "    label_fr=\"distance par bateau\")"
   ]
  },
  {
   "cell_type": "code",
   "execution_count": null,
   "id": "760809f9",
   "metadata": {
    "ExecuteTime": {
     "end_time": "2025-10-02T12:37:24.880222Z",
     "start_time": "2025-10-02T12:37:24.844003Z"
    }
   },
   "outputs": [],
   "source": [
    "# The annual producible is expressed per installed capacity per year\n",
    "# This parameter defines what production we can expect annually for an installation of 1 kWp\n",
    "# It translates the differences in resources (solar radiation) and of the installation (orientation, shading...)\n",
    "# We have obtained a reliable estimate of this parameter thanks to\n",
    "# the study on domestic installations database DBPV (www.bdpv.fr)\n",
    "producible = agb.newFloatParam(\n",
    "    \"producible\",\n",
    "    distrib=agb.DistributionType.NORMAL, # Normal distribution\n",
    "    default=1050, min=500, max=1500, std=150, # Centered around the default value: 1050, standard deviation : 150\n",
    "    group=\"production\",\n",
    "    label_fr=\"productible annuel\",\n",
    "    description=\"real annual producible per installed capacity, including transformation losses\",\n",
    "    unit=\"kWh/kWp/year\")"
   ]
  },
  {
   "cell_type": "code",
   "execution_count": null,
   "id": "a83c4c26",
   "metadata": {
    "ExecuteTime": {
     "end_time": "2025-10-02T12:37:24.934373Z",
     "start_time": "2025-10-02T12:37:24.895819Z"
    }
   },
   "outputs": [],
   "source": [
    "# Panel degradation, in fraction per year \n",
    "degradation_rate = agb.newFloatParam(\n",
    "    \"degradation_rate\",\n",
    "    distrib=agb.DistributionType.TRIANGLE, \n",
    "    default=0.005, min=0.005, max=0.008,\n",
    "    group=\"production\",\n",
    "    label=\"degratation rate\",\n",
    "    label_fr=\"taux de dégradation\",\n",
    "    unit=\"fraction/year\")"
   ]
  },
  {
   "cell_type": "code",
   "execution_count": null,
   "id": "e6c4c25a",
   "metadata": {
    "ExecuteTime": {
     "end_time": "2025-10-02T12:37:25.009911Z",
     "start_time": "2025-10-02T12:37:24.949712Z"
    }
   },
   "outputs": [],
   "source": [
    "# Coverage ratio for ground installation (=spread of the support)\n",
    "ground_coverage_ratio = agb.newFloatParam(\n",
    "    \"ground_coverage_ratio\",\n",
    "    default=0.45, min=0.1, max=0.45,\n",
    "    distrib=agb.DistributionType.TRIANGLE,\n",
    "    group=\"installation\",\n",
    "    label_fr=\"couverture au sol\",\n",
    "    description=\"ground coverage ratio (for installations on the ground)\",\n",
    "    unit=\"fraction\")"
   ]
  },
  {
   "cell_type": "code",
   "execution_count": null,
   "id": "8ceabca9",
   "metadata": {
    "ExecuteTime": {
     "end_time": "2025-10-02T12:37:25.149261Z",
     "start_time": "2025-10-02T12:37:25.070823Z"
    }
   },
   "outputs": [],
   "source": [
    "# Estimated lifetime of the complete system\n",
    "lifetime = agb.newFloatParam(\n",
    "    \"lifetime\",\n",
    "    default=30, min=20, max=40,\n",
    "    distrib=agb.DistributionType.TRIANGLE,\n",
    "    group=\"production\",\n",
    "    label=\"pv lifetime\",\n",
    "    # label_fr=\"durée de vie module\",\n",
    "    label_fr=\"durée de vie\",\n",
    "    description=\"estimated lifetime of the system\",\n",
    "    unit=\"years\")"
   ]
  },
  {
   "cell_type": "markdown",
   "id": "01d98b46",
   "metadata": {},
   "source": [
    "## List of parameters"
   ]
  },
  {
   "cell_type": "code",
   "execution_count": null,
   "id": "2e8a8c97",
   "metadata": {
    "ExecuteTime": {
     "end_time": "2025-10-02T12:37:25.254272Z",
     "start_time": "2025-10-02T12:37:25.192095Z"
    }
   },
   "outputs": [],
   "source": [
    "# Compact display of the list of defined parameters\n",
    "agb.list_parameters()"
   ]
  },
  {
   "cell_type": "markdown",
   "id": "f838192a",
   "metadata": {},
   "source": [
    "# Definition of the inventory\n",
    "\n",
    "We now build the inventory of the system, by selecting (and modifying) the  activities from the *background* system, coming from **Ecoinvent** and using the above-defined parameters to express their amounts.\n",
    "\n",
    "We build this inventory in a database specific of the user `USER_DB`, separated from *ecoinvent*, to avoid the original ecoinvent database to be modified by mistake).\n",
    "\n",
    "**lca_algebraic** provides several methods that can be used for this step :\n",
    "* [findTechAct(name, loc*)](https://oie-mines-paristech.github.io/lca_algebraic/doc/helpers.html#lca_algebraic.helpers.findTechAct) et [findBioAct(name, loc*)](https://oie-mines-paristech.github.io/lca_algebraic/doc/helpers.html#lca_algebraic.helpers.findBioAct) allow the background inventories (activities) to be chosen, both for the biosphere and the technosphere. When working with several background databases at the same time, we can replace findTechAct(name, loc*) by findActivity(name, loc, db_name) which  makes it possible to select a given database source.\n",
    "* [copyActivity()](https://oie-mines-paristech.github.io/lca_algebraic/doc/helpers.html#lca_algebraic.helpers.copyActivity) allows an existing inventory of the user database to be copied, so as to modify it.\n",
    "* [newActivity()](https://oie-mines-paristech.github.io/lca_algebraic/doc/helpers.html#lca_algebraic.helpers.newActivity) creates a new inventory in the database."
   ]
  },
  {
   "cell_type": "markdown",
   "id": "d5c71b25",
   "metadata": {},
   "source": [
    "## findBioAct / findTechAct\n",
    "\n",
    "**finTechAct(name, loc*)** (for technosphere, analogous to findBioAct for biosphere) allows the selection of existing inventories by name and location.  \n",
    "\n",
    "The parameter **name** accepts either the complete name of the activity, or a part of the name (followed by symbol `*`)\n",
    "\n",
    "By default, **finTechAct** expects a single correspondence, and it will show an error message if this is not the case, unless an additional parameter is provided. If the parameter `single` is **False**, **findTechAct** will show the first 100 correspondences. "
   ]
  },
  {
   "cell_type": "code",
   "execution_count": null,
   "id": "f2581f3c",
   "metadata": {
    "ExecuteTime": {
     "end_time": "2025-10-02T12:37:27.095312Z",
     "start_time": "2025-10-02T12:37:25.349810Z"
    }
   },
   "outputs": [],
   "source": [
    "# List of corresponding activities\n",
    "agb.findBioAct(\"Water*\", single=False)"
   ]
  },
  {
   "cell_type": "code",
   "execution_count": null,
   "id": "18184ca8",
   "metadata": {
    "ExecuteTime": {
     "end_time": "2025-10-02T12:37:27.182706Z",
     "start_time": "2025-10-02T12:37:27.140317Z"
    }
   },
   "outputs": [],
   "source": [
    "# Single result\n",
    "agb.findBioAct('Water, in air')"
   ]
  },
  {
   "cell_type": "markdown",
   "id": "3bfc034e",
   "metadata": {},
   "source": [
    "## 🔧  Exercise findTechAct\n",
    "\n",
    "Find a PV panel activity named \"photovoltaic panel\", in multi-Si, for the location \"RER\"\n",
    "\n",
    "Keep this activity in a variable parameter named **panel_init** : we will use it later\n"
   ]
  },
  {
   "cell_type": "code",
   "execution_count": null,
   "id": "92408153",
   "metadata": {
    "ExecuteTime": {
     "end_time": "2025-10-02T12:37:27.305445Z",
     "start_time": "2025-10-02T12:37:27.243057Z"
    }
   },
   "outputs": [],
   "source": [
    "# 🔧 TODO : refine the search until getting a single result. \n",
    "# You can also use the second parameter loc=,  to indicate the location\n",
    "panel_init = agb.findTechAct(...)\n",
    "panel_init"
   ]
  },
  {
   "cell_type": "markdown",
   "id": "ef315b1d",
   "metadata": {},
   "source": [
    "## Mounting system\n",
    "\n",
    "We select a standard mounting system and we adapt it to the case of a ground-mounted installation."
   ]
  },
  {
   "cell_type": "code",
   "execution_count": null,
   "id": "96cfaf82",
   "metadata": {
    "ExecuteTime": {
     "end_time": "2025-10-02T12:37:27.714068Z",
     "start_time": "2025-10-02T12:37:27.340696Z"
    }
   },
   "outputs": [],
   "source": [
    "# Selection of ground-mounted system\n",
    "mounting = agb.findTechAct('photovoltaic mounting system production, for 570kWp open ground module')\n",
    "\n",
    "# Copy in the user database (USER_DB) to modify it\n",
    "mounting_modified = agb.copyActivity(\n",
    "    USER_DB, # user database\n",
    "    mounting, # initial activity\n",
    "    \"mounting system adjusted\") # New name\n",
    "\n",
    "# Print act helps us explore the exchanges in an activity: name, input, quantity\n",
    "agb.printAct(mounting)"
   ]
  },
  {
   "cell_type": "code",
   "execution_count": null,
   "id": "d7bf64bd",
   "metadata": {
    "ExecuteTime": {
     "end_time": "2025-10-02T12:37:28.092213Z",
     "start_time": "2025-10-02T12:37:27.791048Z"
    }
   },
   "outputs": [],
   "source": [
    "# Opposite parameter to \"sur_toit\"\n",
    "ground_mounted = (1-rooftop)\n",
    "\n",
    "# Land use: activity only used in case of ground-mounted installation\n",
    "land_use_PV = 1 / ground_coverage_ratio * ground_mounted\n",
    "\n",
    "# Modification of land use\n",
    "# We use here a syntaxis from a python dictionary {key:value, key2, value2, ...}\n",
    "# updateExchanges accepts a dictionary in which the keys sont names of exchanges (=flows) \n",
    "# (+ in some cases #LOC) and the values can be :\n",
    "#  - an activity, to replace the initial target activity\n",
    "#  - a value (either static or arithmetic/with parameters) to change the amount\n",
    "mounting_modified.updateExchanges({\n",
    "   'Transformation, to industrial area' : land_use_PV,\n",
    "   'Transformation, from pasture, man made' : land_use_PV,\n",
    "   'Occupation, industrial area' : land_use_PV * lifetime })\n",
    "\n",
    "# Removal of concrete activities for the rooftop installation\n",
    "mounting_modified.updateExchanges({\n",
    "   'concrete, normal strength' : 0.000541 * ground_mounted,\n",
    "})\n",
    "\n",
    "# TODO Removal of zinc activities for the rooftop installation\n",
    "mounting_modified.updateExchanges({\n",
    "   'zinc coat, coils' : 0.11 * ground_mounted,\n",
    "   'zinc coat, pieces' : 0.156 * ground_mounted})\n",
    "\n",
    "# To show/compare activities before and after modification\n",
    "# Differences are highlighted in yellow\n",
    "# Please note that the amounts are not constant values anymore, but have become, instead, arithmetic formulas \n",
    "# dependent on input parameters\n",
    "agb.printAct(mounting, mounting_modified)"
   ]
  },
  {
   "cell_type": "markdown",
   "id": "640428a4",
   "metadata": {},
   "source": [
    "## Electricity mix\n",
    "\n",
    "We define a virtual electricity mix, by choosing the suitable mix depending on the value of the parameter **elec_mix**\n",
    "From an arithmetical point of view, this mix is a linear combination of national mixes, weighted by boolean parameters (0 or 1) :\n",
    "> elec = elec_cn * \"param elec_mix=cn\" + elec_in * \"param elec_mix=in\" ... etc\n",
    "\n",
    "In this section, we are using the function [newSwitchAct](https://oie-mines-paristech.github.io/lca_algebraic/doc/helpers.html#lca_algebraic.helpers.newSwitchAct) : this function is shorcut for **newActivity** making it easier to simply define an inventory only pointing at other activities with respect to discrete parameters."
   ]
  },
  {
   "cell_type": "code",
   "execution_count": null,
   "id": "a1e47295",
   "metadata": {
    "ExecuteTime": {
     "end_time": "2025-10-02T12:37:31.397761Z",
     "start_time": "2025-10-02T12:37:28.272220Z"
    }
   },
   "outputs": [],
   "source": [
    "# Generic name of electricity mix\n",
    "ELEC_NAME = 'market for electricity, medium voltage'\n",
    "ELEC_GROUP_NAME = 'market group for electricity, medium voltage'\n",
    "\n",
    "# Selection of background activities in ecoinvent \n",
    "# Note the use of second parameter \"loc\" that allows us to choose the region of the target activity\n",
    "elec_cn = agb.findTechAct(ELEC_NAME, \"CN-CSG\")\n",
    "elec_jp = agb.findTechAct(ELEC_NAME, \"JP\")\n",
    "elec_kr = agb.findTechAct(ELEC_NAME, \"KR\")\n",
    "elec_ml = agb.findTechAct(ELEC_NAME, \"MY\")\n",
    "elec_in = agb.findTechAct(ELEC_GROUP_NAME, \"IN\")"
   ]
  },
  {
   "cell_type": "code",
   "execution_count": null,
   "id": "cfa741fe",
   "metadata": {
    "ExecuteTime": {
     "end_time": "2025-10-02T12:37:31.554160Z",
     "start_time": "2025-10-02T12:37:31.423652Z"
    }
   },
   "outputs": [],
   "source": [
    "# Creation of a virtual \"switch\" activity controled by the parameter elec_mix\n",
    "# This activity is a sum of electricity mix * boolean parameter\n",
    "elec = agb.newSwitchAct(USER_DB, \"elec\", elec_mix, {\n",
    "    \"cn\" : elec_cn,\n",
    "    \"jp\" : elec_jp,\n",
    "    \"in\" : elec_in,\n",
    "    \"ml\" : elec_ml,\n",
    "    \"kr\" : elec_kr})\n",
    "\n",
    "# Display of created activity : \n",
    "# *printAct* shows an inventory in the format of a table\n",
    "# Please note that the column \"amount\" : these are not fixed amounts, but a reference \n",
    "# to boolean parameters mutually exclusive : a single mix active at each run of the model\n",
    "agb.printAct(elec)"
   ]
  },
  {
   "cell_type": "markdown",
   "id": "46bf02b1",
   "metadata": {},
   "source": [
    "##  PV panel"
   ]
  },
  {
   "cell_type": "code",
   "execution_count": null,
   "id": "9658f2d7",
   "metadata": {
    "ExecuteTime": {
     "end_time": "2025-10-02T12:37:31.899211Z",
     "start_time": "2025-10-02T12:37:31.623509Z"
    }
   },
   "outputs": [],
   "source": [
    "# panel_init has been selected above\n",
    "\n",
    "# Copy in the user database for mofidication\n",
    "panel_modified = agb.copyActivity(USER_DB, panel_init, 'photovoltaic panel production, multi-Si wafer - adjusted')\n",
    "agb.printAct(panel_init)"
   ]
  },
  {
   "cell_type": "code",
   "execution_count": null,
   "id": "b2280225",
   "metadata": {
    "ExecuteTime": {
     "end_time": "2025-10-02T12:37:32.135078Z",
     "start_time": "2025-10-02T12:37:31.994101Z"
    }
   },
   "outputs": [],
   "source": [
    "# Change of electricity mix\n",
    "# Find the name of the electricity mix in the previous inventory, and change it by the virtual mix\n",
    "# defined above.\n",
    "# Please remind that the values of updateExchanges can be either an amount or an activity\n",
    "# TODO \n",
    "panel_modified.updateExchanges({\n",
    "    'electricity, medium voltage': elec})\n",
    "\n",
    "# Comparison\n",
    "agb.printAct(panel_init, panel_modified)"
   ]
  },
  {
   "cell_type": "markdown",
   "id": "97a0d385",
   "metadata": {},
   "source": [
    "## Complete installation\n",
    "\n",
    "In this stage, we put together the elements that have been defined above in a complete inventory of the system."
   ]
  },
  {
   "cell_type": "code",
   "execution_count": null,
   "id": "a4f2a84b",
   "metadata": {
    "ExecuteTime": {
     "end_time": "2025-10-02T12:37:32.590951Z",
     "start_time": "2025-10-02T12:37:32.414261Z"
    }
   },
   "outputs": [],
   "source": [
    "# Selection of background activities\n",
    "diesel = agb.findTechAct('market for diesel, burned in building machine')\n",
    "\n",
    "# Electrical installation typical of 3 kWp\n",
    "electrical_installation_3kW = agb.findTechAct('photovoltaics, electric installation for 3kWp module, at building', 'RoW')\n",
    "\n",
    "# Inverter for a 500 kWp installation\n",
    "inverter_500kW = agb.findTechAct('inverter production, 500kW', 'RER')\n",
    "\n",
    "# Calculation of the effective surface of a module\n",
    "surface  = nom_power / efficiency_module \n",
    "\n",
    "# Final creation of the complete inventory\n",
    "install = agb.newActivity(USER_DB, \"full pv installation\", \"unit\")\n",
    "\n",
    "# Exchanges are defined as a dictionary of \n",
    "# <activity> : <amount>\n",
    "install.addExchanges({ \n",
    "    \n",
    "    # Supporting structure \n",
    "    mounting_modified :  surface,\n",
    "\n",
    "    # Diesel consumed by the land preparation\n",
    "    # 7673 MJ for a 570 kWp\n",
    "    diesel : ground_mounted * nom_power/570 * 7673,\n",
    "\n",
    "    # Electrical installation : rule of three, with respect to a 3 kWp installation\n",
    "    electrical_installation_3kW : nom_power/3,\n",
    "\n",
    "    # Number of inverters\n",
    "    inverter_500kW : nom_power/500,\n",
    "    \n",
    "    # PV Panel itself, in surface\n",
    "    panel_modified : surface})"
   ]
  },
  {
   "cell_type": "markdown",
   "id": "8b5ef2bb",
   "metadata": {},
   "source": [
    "## 🔧 Add transport to the inventory\n",
    "\n",
    "Complete this cell to add the transport to the inventory.\n",
    "Be careful with the units! The amounts of transport of goods are expressed in tonnes.km\n",
    "\n",
    "The following amounts are to be used :\n",
    "* **Car** : 150km fix, transport of engineers for the feasibility study\n",
    "* **Van** : Transport of the inverter, over 100 km fix, as many times as replacements are needed : use the parameters **lifetime** et **lifetime_inverter**  \n",
    "* **Lorry, Ship & Train** : transport de la masse totale. Utilisez les paramètres : **d_lorry**, **d_ship** et **d_train**"
   ]
  },
  {
   "cell_type": "code",
   "execution_count": null,
   "id": "62790ff4",
   "metadata": {
    "ExecuteTime": {
     "end_time": "2025-10-02T12:37:32.882893Z",
     "start_time": "2025-10-02T12:37:32.619863Z"
    }
   },
   "outputs": [],
   "source": [
    "# -- Selection of transport activities\n",
    "\n",
    "# In Km\n",
    "transport_car = agb.findTechAct('transport, passenger car, large size, petrol, EURO 5', 'RER')\n",
    "\n",
    "# In Tonne.Km\n",
    "transport_van = agb.findTechAct('transport, freight, light commercial vehicle', 'Europe without Switzerland')\n",
    "transport_lorry = agb.findTechAct('lorry, all sizes, EURO6*', 'RER')\n",
    "transport_train = agb.findTechAct('transport, freight train, electricity', 'RoW')\n",
    "transport_ship = agb.findTechAct('transport, freight, sea, container ship')\n",
    "\n",
    "# An inverter of 500 kW weighs 1570kg \n",
    "# Rule of three for the weight of the inverter, in tonnes\n",
    "# Weight of the inverter, tons\n",
    "weight_inverter = 1.570 * nom_power / 500\n",
    "\n",
    "# PV panels weigh 20 kg / m2\n",
    "# Total weight, in tons\n",
    "total_weight = ... 🔧 \n",
    "\n",
    "# TODO   \n",
    "install.addExchanges({    \n",
    "    🔧 \n",
    "})\n",
    "\n",
    "# Display of complete inventory\n",
    "agb.printAct(install)"
   ]
  },
  {
   "cell_type": "markdown",
   "id": "a7149049",
   "metadata": {},
   "source": [
    "##  🔧  Expression of the model per functional unit\n",
    "\n",
    "The impacts are divided by the apropriate amount to express per chosen functional unit. \n",
    "\n",
    "In the case of PV systems, we have the following options :\n",
    "* The nominal **power** installed in **kWp**\n",
    "* The **total energy** produced over the whole lifetime of the system, in **kWh**"
   ]
  },
  {
   "cell_type": "code",
   "execution_count": null,
   "id": "907d3a8b",
   "metadata": {
    "ExecuteTime": {
     "end_time": "2025-10-02T12:37:32.963916Z",
     "start_time": "2025-10-02T12:37:32.943174Z"
    }
   },
   "outputs": [],
   "source": [
    "\n",
    "# 🔧  -- Model per functional unit\n",
    "\n",
    "# Calculation of total energy produced over the lifetime\n",
    "# Each year, the efficiency decreases based on the degradation rate.\n",
    "# Sum of the terms of the geometric series :\n",
    "energy = 🔧 \n",
    "\n"
   ]
  },
  {
   "cell_type": "markdown",
   "id": "69f60dcc",
   "metadata": {},
   "source": [
    "# Calculation of impacts"
   ]
  },
  {
   "cell_type": "markdown",
   "id": "302b8a47f6a46173",
   "metadata": {
    "jp-MarkdownHeadingCollapsed": true
   },
   "source": [
    "## Selection of impact assessment methods\n",
    "\n",
    "In this example, we choose 3 impact categories among **ILCD** characterization methods imported with *Ecoinvent* database:\n",
    "* **Climate change**, in kg CO2 equivalent\n",
    "* **Mineral and metal resource depletion** in kg antimony equivalent (kg Sb eq),\n",
    "* **Land use**, in kg organic matter loss"
   ]
  },
  {
   "cell_type": "code",
   "execution_count": null,
   "id": "cc2b75919d27c81f",
   "metadata": {
    "ExecuteTime": {
     "end_time": "2025-10-02T12:37:33.124457Z",
     "start_time": "2025-10-02T12:37:33.089090Z"
    }
   },
   "outputs": [],
   "source": [
    "# Common prefix\n",
    "EF = 'EF v3.1'\n",
    "\n",
    "# Search for methods\n",
    "[m for m in bd.methods if m[1] == EF and \"climate\" in m[2]]"
   ]
  },
  {
   "cell_type": "code",
   "execution_count": null,
   "id": "8b202dd21466e4d5",
   "metadata": {
    "ExecuteTime": {
     "end_time": "2025-10-02T12:37:33.352854Z",
     "start_time": "2025-10-02T12:37:33.323175Z"
    }
   },
   "outputs": [],
   "source": [
    "# The impacts are tuples of identifiers of ecoinvent database:\n",
    "EI_310 = 'ecoinvent-3.10.1'\n",
    "\n",
    "climate = (EI_310, EF, 'climate change', 'global warming potential (GWP100)')\n",
    "resources = (EI_310, EF, 'material resources: metals/minerals', 'abiotic depletion potential (ADP): elements (ultimate reserves)')\n",
    "land = (EI_310, EF, 'land use', 'soil quality index')\n",
    "\n",
    "# We build a 3-impact list\n",
    "impacts = [climate, resources, land]\n",
    "impacts"
   ]
  },
  {
   "cell_type": "markdown",
   "id": "f3b2c856",
   "metadata": {},
   "source": [
    "## Individual calculation\n",
    "\n",
    "The function `compute_impacts()` allows the calculation of several impacts simultaneously, for the values of the introduced values for the parameters : "
   ]
  },
  {
   "cell_type": "code",
   "execution_count": null,
   "id": "b19d8a65",
   "metadata": {
    "ExecuteTime": {
     "end_time": "2025-10-02T12:37:36.316790Z",
     "start_time": "2025-10-02T12:37:33.436215Z"
    }
   },
   "outputs": [],
   "source": [
    "# This fonction allows the user to calculate several impacts at once, and to indicate the values for several parameters\n",
    "agb.compute_impacts(\n",
    "    install, # the full inventory\n",
    "    impacts, # the list of impact methods\n",
    "\n",
    "    # functional_unit=nom_power, Per Kwp\n",
    "    functional_unit= energy, # Per Kwh\n",
    "\n",
    "    # Parameters\n",
    "    nom_power = 30)"
   ]
  },
  {
   "cell_type": "markdown",
   "id": "f4a50e53",
   "metadata": {},
   "source": [
    "## 🔧 Compare the impacts of ground-mounted and rooftop installations"
   ]
  },
  {
   "cell_type": "code",
   "execution_count": null,
   "id": "aebd621e",
   "metadata": {
    "ExecuteTime": {
     "end_time": "2025-10-02T12:37:36.526400Z",
     "start_time": "2025-10-02T12:37:36.422736Z"
    }
   },
   "outputs": [],
   "source": [
    "# 🔧  TODO : Impacts of a rooftop installation\n",
    "agb.compute_impacts( 🔧 )"
   ]
  },
  {
   "cell_type": "code",
   "execution_count": null,
   "id": "c3ce7707",
   "metadata": {
    "ExecuteTime": {
     "end_time": "2025-10-02T12:37:36.832682Z",
     "start_time": "2025-10-02T12:37:36.711811Z"
    }
   },
   "outputs": [],
   "source": [
    "# TODO : Impacts of a ground-mounted installation\n",
    "agb.compute_impacts( 🔧 )"
   ]
  },
  {
   "cell_type": "markdown",
   "id": "be94bbcb",
   "metadata": {},
   "source": [
    "##  \t💡  OAT (one at a time) variation of the parameters\n",
    "\n",
    "By varying each parameter individually in its domain of definition (min max), we can have a first glance of the variability of the impacts and the relative importance of each parameter"
   ]
  },
  {
   "cell_type": "code",
   "execution_count": null,
   "id": "74328b20",
   "metadata": {
    "ExecuteTime": {
     "end_time": "2025-10-02T12:37:37.835951Z",
     "start_time": "2025-10-02T12:37:37.035108Z"
    },
    "lines_to_next_cell": 2
   },
   "outputs": [],
   "source": [
    "# Interactive dashboard showing, for each parameter :\n",
    "# * Graphs of the evolution per impact category\n",
    "# * Raw data\n",
    "# * A graph with the relative variation with each impact in percentage : (max-min) / mean\n",
    "agb.oat_dashboard(install, impacts, functional_unit = energy)\n",
    "\n",
    "# TODO : Explore the variations of different impacts\n",
    "# For which impact category has the electricity mix the highest influence?\n",
    "# For which impact category or categories for which the influence is, in principle, negligible?"
   ]
  },
  {
   "cell_type": "markdown",
   "id": "81996205",
   "metadata": {},
   "source": [
    "A Jupyter widget could not be displayed because the widget state could not be found. This could happen if the kernel storing the widget is no longer available, or if the widget state was not saved in the notebook. You may be able to create the widget by running the appropriate cells."
   ]
  },
  {
   "cell_type": "code",
   "execution_count": null,
   "id": "c9238c2e",
   "metadata": {
    "ExecuteTime": {
     "end_time": "2025-10-02T12:37:38.587787Z",
     "start_time": "2025-10-02T12:37:37.891247Z"
    }
   },
   "outputs": [],
   "source": [
    "# Global view of the relative variations (min/max) for each parameter & impact\n",
    "# We observe 3 types of parameters :\n",
    "# * Dominant parameters for all impacts\n",
    "# * Minor parameters for all impacts\n",
    "# * Dominant parameters for certain impacts\n",
    "agb.oat_matrix(install, impacts, functional_unit = energy)\n",
    "\n",
    "# TODO : observe the impact of the parameter \"ground coverage\" \n",
    "# How do you explain that it is not identified as a remarkable contributor to the category \"land use\"?"
   ]
  },
  {
   "cell_type": "markdown",
   "id": "ecbc54dd",
   "metadata": {},
   "source": [
    "##  💡  Statistic analysis \n",
    "\n",
    "The library *lca_algebraic*, allows the user to launch Monte Carlo random scenarios: That is, it provides a fast computation of a large number of impact values (> 100 000), for the values of different parameters.\n",
    "\n",
    "The input parameters vary randomly based on statistical distributions defined above. The impacts are calculated for each random dataset.\n",
    "\n",
    "The analysis of the results help evaluate finely the statistical variability of each environmental impact, and the importance of each parameter in this variability \n"
   ]
  },
  {
   "cell_type": "code",
   "execution_count": null,
   "id": "1ff49651",
   "metadata": {
    "ExecuteTime": {
     "end_time": "2025-10-02T12:37:52.446140Z",
     "start_time": "2025-10-02T12:37:38.742475Z"
    }
   },
   "outputs": [],
   "source": [
    "# The method \"graphs\" provides billions of Monte Carlo sampling points, \n",
    "# then track the output distribution of the impacts, using different statistical indicators :\n",
    "# * mean\n",
    "# * median\n",
    "# * standard deviation\n",
    "# * variability index (standard deviation / mean)\n",
    "# * percentiles (5% et 95%) \n",
    "agb.distrib(install, impacts, functional_unit = energy)\n",
    "\n",
    "# TODO : What is the standard deviation of climate impacts ? (in g.CO2 eq) \n",
    "# Compare to the extent of the OAT, for the variations of the single parameter \"producible\""
   ]
  },
  {
   "cell_type": "markdown",
   "id": "231b9712",
   "metadata": {},
   "source": [
    "## 💡 Global sensitivity analysis & Sobol indices"
   ]
  },
  {
   "cell_type": "code",
   "execution_count": null,
   "id": "c798cbdf",
   "metadata": {
    "ExecuteTime": {
     "end_time": "2025-10-02T12:37:55.967914Z",
     "start_time": "2025-10-02T12:37:52.555817Z"
    }
   },
   "outputs": [],
   "source": [
    "# This function also provides Monte Carlo samples, followed by the calculation of the Sobol indices and displays :\n",
    "# - \"Violin\" plots, analogous to previous ones\n",
    "# - A cumulative plot of Sobol indices\n",
    "# - A \"heatmap\" similar to that of OAT analysis\n",
    "# - Raw data\n",
    "agb.incer_stochastic_dashboard(install, impacts, functional_unit = energy)\n",
    "\n",
    "# TODO : \n",
    "# - Explore the data\n",
    "# - Compare the output of the \"heatmap\" with OAT, by selecting \"relative to mean\"\n",
    "# - How do you explain the difference with respect to OAT for the parameter \"ground_coverage\" ?\n",
    "# - Come back to \"raw indices\" : \n",
    "#   which parameters should we select to explain at least 80% of the variance in the category of \"land use\" ?\n"
   ]
  },
  {
   "cell_type": "markdown",
   "id": "56338a2c",
   "metadata": {},
   "source": [
    "# 🔧 Generation of simplified models\n",
    "\n",
    "Sobol indices allowing the user to select automatically a subassembly of dominant parameters, \n",
    "explaining a predefined part (min-ratio) of the final variability.\n",
    "\n",
    "Replacing other parameters by their median value, we obtain simplified algebraic models."
   ]
  },
  {
   "cell_type": "code",
   "execution_count": null,
   "id": "75f355b5",
   "metadata": {
    "ExecuteTime": {
     "end_time": "2025-10-02T12:38:01.645950Z",
     "start_time": "2025-10-02T12:37:55.996451Z"
    }
   },
   "outputs": [],
   "source": [
    "simplified = agb.sobol_simplify_model(\n",
    "    install, # The model\n",
    "    impacts, # Impacts to consider\n",
    "    functional_unit = energy,\n",
    "    n=2000, # For large model, you may test other value and ensure ST and sum(S1) are close to 1.0 \n",
    "    fixed_mode = agb.FixedParamMode.MEDIAN, # We replace minor parameters by median by default,\n",
    "    min_ratio=0.8, # Min ratio of variability to explain\n",
    "    num_digits=3)\n",
    "\n",
    "# TODO, explore other values of min_ratio, and their impact on the number of selected parameters"
   ]
  },
  {
   "cell_type": "code",
   "execution_count": null,
   "id": "078418c5",
   "metadata": {
    "ExecuteTime": {
     "end_time": "2025-10-02T12:38:01.709069Z",
     "start_time": "2025-10-02T12:38:01.669287Z"
    }
   },
   "outputs": [],
   "source": [
    "# Display of the first simplified model (climate change)\n",
    "simplified[0].expr"
   ]
  },
  {
   "cell_type": "code",
   "execution_count": null,
   "id": "4fd3b810",
   "metadata": {
    "ExecuteTime": {
     "end_time": "2025-10-02T12:38:01.815528Z",
     "start_time": "2025-10-02T12:38:01.782170Z"
    }
   },
   "outputs": [],
   "source": [
    "# Display of the second simplified model  (resource depletion)\n",
    "simplified[1].expr"
   ]
  },
  {
   "cell_type": "code",
   "execution_count": null,
   "id": "82659875",
   "metadata": {
    "ExecuteTime": {
     "end_time": "2025-10-02T12:38:01.914329Z",
     "start_time": "2025-10-02T12:38:01.883447Z"
    }
   },
   "outputs": [],
   "source": [
    "# Display of the third simplified model  (land use)\n",
    "simplified[2].expr"
   ]
  },
  {
   "cell_type": "markdown",
   "id": "0c0850eb",
   "metadata": {},
   "source": [
    "# 💡 Validation of simplified models\n",
    "\n",
    "Simplified models can be compared to the reference model (complete), by using the function **compare_simplified**. This function conducts itself the same Monte Carlo generation of scenarios for both models and compare their results. R² is calculated : this quantifies the alignment of the simplified model to the referenc model, ranging between 0 and 1 (1 being a perfectly aligned simplified model)."
   ]
  },
  {
   "cell_type": "code",
   "execution_count": null,
   "id": "bd0a1ac7",
   "metadata": {
    "ExecuteTime": {
     "end_time": "2025-10-02T12:39:09.656392Z",
     "start_time": "2025-10-02T12:39:03.810031Z"
    }
   },
   "outputs": [],
   "source": [
    "agb.compare_simplified(\n",
    "    model=install,\n",
    "    methods=impacts,\n",
    "    simpl_lambdas=simplified,\n",
    "    functional_unit = energy,\n",
    "    func_unit_name=\"kWh\",\n",
    "    residuals=True)\n",
    "\n",
    "# TODO compare the level of alignement of simplified models and R²"
   ]
  },
  {
   "cell_type": "markdown",
   "id": "44ca5072f9b4f339",
   "metadata": {},
   "source": [
    " # Homogeneity of physical units\n",
    "\n",
    "The lastest version of *lca_algebraic* integrates with the librairy [Pint](pint.readthedocs.io/en/stable/).\n",
    "\n",
    "It enables, as an option, to automatically check the physical homogeneity of formulas / units.\n",
    "\n",
    "Full [documentation here](https://lca-algebraic.readthedocs.io/en/stable/api/units.html)"
   ]
  },
  {
   "cell_type": "markdown",
   "id": "8ad9b399086ada94",
   "metadata": {},
   "source": [
    "## Activate the Unit checks"
   ]
  },
  {
   "cell_type": "code",
   "execution_count": null,
   "id": "e253d5bb",
   "metadata": {
    "ExecuteTime": {
     "end_time": "2025-10-02T14:12:23.562856Z",
     "start_time": "2025-10-02T14:12:23.530101Z"
    }
   },
   "outputs": [],
   "source": [
    "from lca_algebraic import Settings\n",
    "from lca_algebraic import unit_registry as u # Short alias to units\n",
    "\n",
    "Settings.units_enabled = True"
   ]
  },
  {
   "cell_type": "markdown",
   "id": "f3f4e4767f6d2a81",
   "metadata": {},
   "source": [
    "## Usage\n",
    "\n",
    "Once units are activated, `newFlotParam(...)` creates a [Pint Quantity](https://pint.readthedocs.io/en/stable/user/defining-quantities.html), which holds two fields :\n",
    " - `.units` : The physical unit (the one defined in the unit argument of newFloatParam)\n",
    " - `.magnitude`:  The amount / magnitude : A static float value or Sympy expression (the parameter itself)\n",
    "\n",
    "You need to specify the unit for any static value used in formulas.\n",
    "\n",
    "You can specify them using either of the following syntaxes :\n",
    "```\n",
    "<value> * <unit> or\n",
    "<value> | <unit>\n",
    "```"
   ]
  },
  {
   "cell_type": "code",
   "execution_count": null,
   "id": "e01002ba668a1bf7",
   "metadata": {
    "ExecuteTime": {
     "end_time": "2025-10-02T14:12:26.200451Z",
     "start_time": "2025-10-02T14:12:26.145952Z"
    }
   },
   "outputs": [],
   "source": [
    "mass_param = agb.newFloatParam(\"p1\", unit=\"kg\", default=10)\n",
    "print(\"whole param:\", mass_param)\n",
    "print(\"its unit:\", mass_param.units)\n",
    "print(\"its magnitude:\", mass_param.magnitude)"
   ]
  },
  {
   "cell_type": "code",
   "execution_count": null,
   "id": "4840247750a09cb0",
   "metadata": {
    "ExecuteTime": {
     "end_time": "2025-10-02T14:12:27.144564Z",
     "start_time": "2025-10-02T14:12:27.115718Z"
    }
   },
   "outputs": [],
   "source": [
    "# Defining constant values\n",
    "MASS_PER_SURFACE = 10 | u.kg / u.meter ** 2\n",
    "print(MASS_PER_SURFACE)"
   ]
  },
  {
   "cell_type": "code",
   "execution_count": null,
   "id": "bf5be0a83227b590",
   "metadata": {
    "ExecuteTime": {
     "end_time": "2025-10-02T14:12:27.747500Z",
     "start_time": "2025-10-02T14:12:27.722354Z"
    }
   },
   "outputs": [],
   "source": [
    "# Convert to other units\n",
    "\n",
    "# Notice that for a Sympa parameter, the magnitude is still a Sympy formula\n",
    "print(\"param in gram : \", mass_param.to(u.gram))"
   ]
  },
  {
   "cell_type": "code",
   "execution_count": null,
   "id": "17728d63cc311ca0",
   "metadata": {
    "ExecuteTime": {
     "end_time": "2025-10-02T14:12:28.321831Z",
     "start_time": "2025-10-02T14:12:28.290966Z"
    }
   },
   "outputs": [],
   "source": [
    "# You can also use the syntax '|'\n",
    "print(\"MASS_PER_SURFACE ==> kg/cm2 : \", MASS_PER_SURFACE | u.kg / u.centimeter ** 2)"
   ]
  },
  {
   "cell_type": "markdown",
   "id": "3691fa04bf3b525e",
   "metadata": {},
   "source": [
    "## Sums and auto scale\n",
    "\n",
    "You can add quantities of incompatible units. **Pint** raises an exception if you try to.\n",
    "\n",
    "By default, **auto scale** is disabled even compatible units (kilogram and gram for instance) cannot be added if they are not explicitely converted.\n",
    "\n",
    "Autoscale can be enabled, to automatically transform units :\n",
    "```\n",
    "u.autoscale = True\n",
    "```\n",
    "\n",
    "Yet, we **recommend to leave it disabled**, in order to have the developper fully aware of the required unit conversions"
   ]
  },
  {
   "cell_type": "code",
   "execution_count": null,
   "id": "713b11d415eb848b",
   "metadata": {
    "ExecuteTime": {
     "end_time": "2025-10-02T14:15:25.627596Z",
     "start_time": "2025-10-02T14:15:25.437035Z"
    }
   },
   "outputs": [],
   "source": [
    "# You can't add apples with bananas\n",
    "mass = 10 | u.kilogram\n",
    "distance = 20 | u.meter\n",
    "\n",
    "mass + distance"
   ]
  },
  {
   "cell_type": "code",
   "execution_count": null,
   "id": "cc87b6be5cbabecd",
   "metadata": {
    "ExecuteTime": {
     "end_time": "2025-10-02T14:15:47.868088Z",
     "start_time": "2025-10-02T14:15:47.698059Z"
    }
   },
   "outputs": [],
   "source": [
    "# By default, auto scale of quantities with compatible units is disabled\n",
    "\n",
    "mass_kg = 1 | u.kg\n",
    "mass_gram = 2 | u.gram\n",
    "\n",
    "# This will fail\n",
    "mass_kg + mass_gram"
   ]
  },
  {
   "cell_type": "code",
   "execution_count": null,
   "id": "85b32b3456f68aef",
   "metadata": {
    "ExecuteTime": {
     "end_time": "2025-10-02T14:15:53.301878Z",
     "start_time": "2025-10-02T14:15:53.250917Z"
    }
   },
   "outputs": [],
   "source": [
    "# This works\n",
    "mass_kg.to(u.gram) + mass_gram\n"
   ]
  },
  {
   "cell_type": "markdown",
   "id": "aad619aa8952d7a7",
   "metadata": {},
   "source": [
    "## Units in the inventory\n",
    "\n",
    "When assigning a quantity an exchange, either via `newActivity()` or `updateActivity()`, *lca_algebraic* will check that the unit of the amount is either :\n",
    "* The unit of the **target activity** of the exchange\n",
    "* The unit of the **target activity** of the exchange, divided by the **unit of the output**.\n",
    "\n",
    "For instance, if you define an activity **act1**, creating 1 kg of a product, and using some electricity (in kWh), then the exchange for electricity should be defined either in *kWh* (implicitely “for one 1 kg of product created”) or in *kWh/kg*."
   ]
  },
  {
   "cell_type": "code",
   "execution_count": null,
   "id": "7331090de23fe8bf",
   "metadata": {
    "ExecuteTime": {
     "end_time": "2025-10-02T14:23:12.732926Z",
     "start_time": "2025-10-02T14:23:12.643965Z"
    }
   },
   "outputs": [],
   "source": [
    "# The unit of electricity is kilowatthour\n",
    "print(elec_cn)\n",
    "\n",
    "# Both would work\n",
    "act1 = agb.newActivity(\n",
    "    db_name=USER_DB,\n",
    "    name=\"act1\",\n",
    "    unit=\"kg\", # Unit of theis activity\n",
    "    exchanges={\n",
    "        elec_cn: 100 | u.kWh, # Ok\n",
    "        elec_cn: 100 | u.kWh / u.kg, # Ok\n",
    "    })"
   ]
  },
  {
   "cell_type": "code",
   "execution_count": null,
   "id": "4c2284fe3337ce9a",
   "metadata": {},
   "outputs": [],
   "source": [
    "# Both would work\n",
    "act1 = agb.newActivity(\n",
    "    db_name=USER_DB,\n",
    "    name=\"act1\",\n",
    "    unit=\"kg\", # Unit of theis activity\n",
    "    exchanges={\n",
    "        elec_cn: 100 | u.kilowatt # Would fail\n",
    "    })"
   ]
  },
  {
   "cell_type": "markdown",
   "id": "6f5efb9b-e189-4280-b506-3057370a9378",
   "metadata": {},
   "source": [
    "### 🔧 Create an inventory with converted units\n",
    "\n",
    "Let's create an activity of a gaz turbine producing electricity.\n",
    "\n",
    "In ecoinvent, the gas is expressed in cubic meter, not in energy.\n",
    "\n",
    "Let's introduce : \n",
    "- An efficiency parameter, in percentage\n",
    "- A static parameter of energetic density of methane (37 megajoule per cubic meter)\n",
    "\n"
   ]
  },
  {
   "cell_type": "code",
   "execution_count": null,
   "id": "27e770a2-988a-4d61-ad0d-45d32aa088f9",
   "metadata": {},
   "outputs": [],
   "source": [
    "methane = agb.findTechAct(\"market for natural gas, high pressure\", loc=\"RoW\")"
   ]
  },
  {
   "cell_type": "code",
   "execution_count": null,
   "id": "6a1a8ae9-2e32-4afe-a2e2-2f9c942120a1",
   "metadata": {},
   "outputs": [],
   "source": [
    "turbine_efficiency = agb.newFloatParam(\n",
    "    \"turbine_efficiency\", \n",
    "    default=0.4, min=0.2, max=0.8,\n",
    "    unit=\"ratio\")"
   ]
  },
  {
   "cell_type": "code",
   "execution_count": null,
   "id": "bbf2cc5c-99b6-45fe-bf92-00b54128aa82",
   "metadata": {},
   "outputs": [],
   "source": [
    "METHANE_ENERGETIC_INTENSITY = 🔧 \n",
    "\n",
    "elec_turbine = act1 = agb.newActivity(\n",
    "          db_name=USER_DB,\n",
    "          name=\"elec_turbine\",\n",
    "          unit=\"kilowatthour\",\n",
    "          exchanges={\n",
    "             methane: 🔧 \n",
    "          })"
   ]
  },
  {
   "cell_type": "code",
   "execution_count": null,
   "id": "f44ac257-112d-4004-ba45-d64c8c4ab8a5",
   "metadata": {},
   "outputs": [],
   "source": [
    "agb.printAct(elec_turbine)"
   ]
  },
  {
   "cell_type": "code",
   "execution_count": null,
   "id": "1a707aea-c61b-4bbb-8bf2-c968e898ee7f",
   "metadata": {},
   "outputs": [],
   "source": []
  }
 ],
 "metadata": {
  "kernelspec": {
   "display_name": "Python 3 (ipykernel)",
   "language": "python",
   "name": "python3"
  },
  "language_info": {
   "codemirror_mode": {
    "name": "ipython",
    "version": 3
   },
   "file_extension": ".py",
   "mimetype": "text/x-python",
   "name": "python",
   "nbconvert_exporter": "python",
   "pygments_lexer": "ipython3",
   "version": "3.10.12"
  }
 },
 "nbformat": 4,
 "nbformat_minor": 5
}
