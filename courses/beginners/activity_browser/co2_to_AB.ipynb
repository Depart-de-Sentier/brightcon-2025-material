{
 "cells": [
  {
   "cell_type": "markdown",
   "id": "79c98766",
   "metadata": {},
   "source": [
    "# Easy CO2 supply chain example, Brightcon 2025"
   ]
  },
  {
   "cell_type": "markdown",
   "id": "17b3d378",
   "metadata": {},
   "source": [
    "This notebook helps importing own inventories made in excel to Activity Browser.\n",
    "\n",
    "The notebook has been made for the Beginners course at Brightcon 2025.\n",
    "\n",
    "karin.treyer@psi.ch"
   ]
  },
  {
   "cell_type": "markdown",
   "id": "aa0706c4",
   "metadata": {},
   "source": [
    "First we define which modules we want to use and import them."
   ]
  },
  {
   "cell_type": "code",
   "execution_count": null,
   "id": "b037a339",
   "metadata": {},
   "outputs": [],
   "source": [
    "import bw2io as bi\n",
    "import bw2data as bd\n",
    "import bw2calc as bc"
   ]
  },
  {
   "cell_type": "code",
   "execution_count": null,
   "id": "a174ad0f",
   "metadata": {},
   "outputs": [],
   "source": [
    "bd.projects.set_current(\"brightcon_beginners\")"
   ]
  },
  {
   "cell_type": "code",
   "execution_count": null,
   "id": "bc40752a",
   "metadata": {},
   "outputs": [],
   "source": [
    "bd.databases"
   ]
  },
  {
   "cell_type": "markdown",
   "id": "303eff3a",
   "metadata": {},
   "source": [
    "The two cells below just show you how the project you have imported in Activity Browser has been backuped and how it can be restored in a jupyter notebook. You would execute them if you want to backup a project, and later on (or a colleague) restore it."
   ]
  },
  {
   "cell_type": "code",
   "execution_count": null,
   "id": "6a33b4bc",
   "metadata": {},
   "outputs": [],
   "source": [
    "#backup the project with all background databases\n",
    "bi.backup.backup_project_directory(\n",
    "    project='brightcon_beginners'\n",
    "   )"
   ]
  },
  {
   "cell_type": "code",
   "execution_count": null,
   "id": "bf194f83",
   "metadata": {},
   "outputs": [],
   "source": [
    "bi.backup.restore_project_directory(\n",
    "    fp=r'C:\\Users\\treyer_k\\brightway2-project-brightcon_beginners-backup.13-May-2025-03-05PM.tar.gz',\n",
    "    project_name='brightcon_myproject'\n",
    ")"
   ]
  },
  {
   "cell_type": "markdown",
   "id": "81d6521e",
   "metadata": {},
   "source": [
    "We use the bw2io Excel Importer to import LCI data from excel. \n",
    "First, we define it as a variable, and then we try to link all entries with databases existing in this project."
   ]
  },
  {
   "cell_type": "code",
   "execution_count": null,
   "id": "fe1918ba",
   "metadata": {},
   "outputs": [],
   "source": [
    "imp = bi.ExcelImporter(r'C:\\Users\\treyer_k\\Documents\\PSI\\Brightway\\departdesentier\\BrightCon\\2025\\Beginner course\\activity_browser\\lci_co2_supply_chain_v311_failing.xlsx')\n",
    "imp.apply_strategies()\n",
    "imp.match_database(\"ecoinvent-3.11-cutoff\", fields=('name','unit','location', 'reference product'))\n",
    "imp.match_database(fields=('name', 'unit', 'location'))\n",
    "imp.statistics()\n",
    "\n",
    "#The two lines below are helpful to identify problematic lines which hinder writing the project.\n",
    "imp.write_excel(only_unlinked=True)\n",
    "imp.write_excel()\n",
    "list(imp.unlinked)\n",
    "\n",
    "imp.write_database()"
   ]
  }
 ],
 "metadata": {
  "kernelspec": {
   "display_name": "bw25",
   "language": "python",
   "name": "python3"
  },
  "language_info": {
   "codemirror_mode": {
    "name": "ipython",
    "version": 3
   },
   "file_extension": ".py",
   "mimetype": "text/x-python",
   "name": "python",
   "nbconvert_exporter": "python",
   "pygments_lexer": "ipython3",
   "version": "3.12.12"
  }
 },
 "nbformat": 4,
 "nbformat_minor": 5
}
